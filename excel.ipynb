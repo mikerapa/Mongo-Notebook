{
 "cells": [
  {
   "cell_type": "markdown",
   "source": [
    "# Write to excel file using pandas\n",
    "1. Create data set as an array of dictionaries\n",
    "2. Create a DataFame\n",
    "3. Save the DataFrame content to an excel file\n",
    "4."
   ],
   "metadata": {
    "collapsed": false
   }
  },
  {
   "cell_type": "code",
   "execution_count": 2,
   "metadata": {
    "collapsed": true
   },
   "outputs": [
    {
     "name": "stdout",
     "output_type": "stream",
     "text": [
      "[{'id': 0, 'rVal': 91, 'type': 'C', 'location': 'Cairo'}, {'id': 1, 'rVal': 87, 'type': 'B', 'location': 'Porto'}, {'id': 2, 'rVal': 45, 'type': 'A', 'location': 'Toronto'}, {'id': 3, 'rVal': 16, 'type': 'C', 'location': 'Toronto'}, {'id': 4, 'rVal': 42, 'type': 'B', 'location': 'Chicago'}, {'id': 5, 'rVal': 91, 'type': 'A', 'location': 'Chicago'}, {'id': 6, 'rVal': 22, 'type': 'A', 'location': 'Toronto'}, {'id': 7, 'rVal': 7, 'type': 'B', 'location': 'Porto'}, {'id': 8, 'rVal': 91, 'type': 'C', 'location': 'Porto'}, {'id': 9, 'rVal': 20, 'type': 'C', 'location': 'Porto'}, {'id': 10, 'rVal': 14, 'type': 'C', 'location': 'Porto'}, {'id': 11, 'rVal': 14, 'type': 'A', 'location': 'Toronto'}, {'id': 12, 'rVal': 23, 'type': 'B', 'location': 'Cairo'}, {'id': 13, 'rVal': 1, 'type': 'A', 'location': 'Cairo'}, {'id': 14, 'rVal': 2, 'type': 'A', 'location': 'Chicago'}, {'id': 15, 'rVal': 46, 'type': 'A', 'location': 'Porto'}, {'id': 16, 'rVal': 27, 'type': 'C', 'location': 'Lagos'}, {'id': 17, 'rVal': 26, 'type': 'C', 'location': 'Porto'}, {'id': 18, 'rVal': 68, 'type': 'B', 'location': 'Lagos'}, {'id': 19, 'rVal': 38, 'type': 'C', 'location': 'Porto'}, {'id': 20, 'rVal': 86, 'type': 'A', 'location': 'Lagos'}, {'id': 21, 'rVal': 90, 'type': 'A', 'location': 'Porto'}, {'id': 22, 'rVal': 28, 'type': 'A', 'location': 'Porto'}, {'id': 23, 'rVal': 66, 'type': 'B', 'location': 'Cairo'}, {'id': 24, 'rVal': 91, 'type': 'C', 'location': 'Cairo'}, {'id': 25, 'rVal': 62, 'type': 'A', 'location': 'Lagos'}, {'id': 26, 'rVal': 41, 'type': 'A', 'location': 'Porto'}, {'id': 27, 'rVal': 86, 'type': 'B', 'location': 'Chicago'}, {'id': 28, 'rVal': 27, 'type': 'A', 'location': 'Porto'}, {'id': 29, 'rVal': 7, 'type': 'A', 'location': 'Chicago'}, {'id': 30, 'rVal': 7, 'type': 'A', 'location': 'Lagos'}, {'id': 31, 'rVal': 32, 'type': 'B', 'location': 'Chicago'}, {'id': 32, 'rVal': 29, 'type': 'A', 'location': 'Chicago'}, {'id': 33, 'rVal': 34, 'type': 'C', 'location': 'Porto'}, {'id': 34, 'rVal': 9, 'type': 'B', 'location': 'Cairo'}, {'id': 35, 'rVal': 78, 'type': 'A', 'location': 'Cairo'}, {'id': 36, 'rVal': 94, 'type': 'B', 'location': 'Lagos'}, {'id': 37, 'rVal': 67, 'type': 'B', 'location': 'Porto'}, {'id': 38, 'rVal': 68, 'type': 'B', 'location': 'Cairo'}, {'id': 39, 'rVal': 21, 'type': 'C', 'location': 'Porto'}, {'id': 40, 'rVal': 3, 'type': 'C', 'location': 'Toronto'}, {'id': 41, 'rVal': 75, 'type': 'B', 'location': 'Lagos'}, {'id': 42, 'rVal': 39, 'type': 'B', 'location': 'Porto'}, {'id': 43, 'rVal': 13, 'type': 'A', 'location': 'Porto'}, {'id': 44, 'rVal': 99, 'type': 'B', 'location': 'Chicago'}, {'id': 45, 'rVal': 31, 'type': 'A', 'location': 'Chicago'}, {'id': 46, 'rVal': 92, 'type': 'A', 'location': 'Porto'}, {'id': 47, 'rVal': 10, 'type': 'B', 'location': 'Lagos'}, {'id': 48, 'rVal': 50, 'type': 'B', 'location': 'Porto'}, {'id': 49, 'rVal': 99, 'type': 'A', 'location': 'Lagos'}, {'id': 50, 'rVal': 73, 'type': 'A', 'location': 'Chicago'}, {'id': 51, 'rVal': 36, 'type': 'A', 'location': 'Porto'}, {'id': 52, 'rVal': 71, 'type': 'A', 'location': 'Porto'}, {'id': 53, 'rVal': 21, 'type': 'A', 'location': 'Toronto'}, {'id': 54, 'rVal': 31, 'type': 'A', 'location': 'Lagos'}, {'id': 55, 'rVal': 27, 'type': 'A', 'location': 'Porto'}, {'id': 56, 'rVal': 71, 'type': 'B', 'location': 'Cairo'}, {'id': 57, 'rVal': 99, 'type': 'B', 'location': 'Porto'}, {'id': 58, 'rVal': 32, 'type': 'C', 'location': 'Porto'}, {'id': 59, 'rVal': 49, 'type': 'A', 'location': 'Toronto'}, {'id': 60, 'rVal': 15, 'type': 'A', 'location': 'Toronto'}, {'id': 61, 'rVal': 23, 'type': 'A', 'location': 'Toronto'}, {'id': 62, 'rVal': 45, 'type': 'B', 'location': 'Chicago'}, {'id': 63, 'rVal': 45, 'type': 'B', 'location': 'Cairo'}, {'id': 64, 'rVal': 32, 'type': 'A', 'location': 'Cairo'}, {'id': 65, 'rVal': 8, 'type': 'B', 'location': 'Cairo'}, {'id': 66, 'rVal': 60, 'type': 'A', 'location': 'Porto'}, {'id': 67, 'rVal': 98, 'type': 'A', 'location': 'Toronto'}, {'id': 68, 'rVal': 47, 'type': 'C', 'location': 'Cairo'}, {'id': 69, 'rVal': 73, 'type': 'A', 'location': 'Porto'}, {'id': 70, 'rVal': 15, 'type': 'B', 'location': 'Cairo'}, {'id': 71, 'rVal': 49, 'type': 'C', 'location': 'Toronto'}, {'id': 72, 'rVal': 29, 'type': 'A', 'location': 'Cairo'}, {'id': 73, 'rVal': 41, 'type': 'C', 'location': 'Toronto'}, {'id': 74, 'rVal': 18, 'type': 'C', 'location': 'Toronto'}, {'id': 75, 'rVal': 89, 'type': 'B', 'location': 'Porto'}, {'id': 76, 'rVal': 4, 'type': 'A', 'location': 'Toronto'}, {'id': 77, 'rVal': 75, 'type': 'B', 'location': 'Cairo'}, {'id': 78, 'rVal': 78, 'type': 'A', 'location': 'Chicago'}, {'id': 79, 'rVal': 48, 'type': 'C', 'location': 'Chicago'}, {'id': 80, 'rVal': 14, 'type': 'B', 'location': 'Cairo'}, {'id': 81, 'rVal': 52, 'type': 'A', 'location': 'Chicago'}, {'id': 82, 'rVal': 78, 'type': 'A', 'location': 'Toronto'}, {'id': 83, 'rVal': 3, 'type': 'A', 'location': 'Chicago'}, {'id': 84, 'rVal': 61, 'type': 'B', 'location': 'Lagos'}, {'id': 85, 'rVal': 40, 'type': 'C', 'location': 'Cairo'}, {'id': 86, 'rVal': 71, 'type': 'C', 'location': 'Chicago'}, {'id': 87, 'rVal': 10, 'type': 'C', 'location': 'Chicago'}, {'id': 88, 'rVal': 62, 'type': 'B', 'location': 'Lagos'}, {'id': 89, 'rVal': 32, 'type': 'A', 'location': 'Cairo'}, {'id': 90, 'rVal': 67, 'type': 'B', 'location': 'Porto'}, {'id': 91, 'rVal': 55, 'type': 'A', 'location': 'Lagos'}, {'id': 92, 'rVal': 40, 'type': 'B', 'location': 'Porto'}, {'id': 93, 'rVal': 58, 'type': 'A', 'location': 'Lagos'}, {'id': 94, 'rVal': 7, 'type': 'C', 'location': 'Lagos'}, {'id': 95, 'rVal': 66, 'type': 'B', 'location': 'Cairo'}, {'id': 96, 'rVal': 96, 'type': 'A', 'location': 'Cairo'}, {'id': 97, 'rVal': 74, 'type': 'C', 'location': 'Cairo'}, {'id': 98, 'rVal': 35, 'type': 'A', 'location': 'Toronto'}, {'id': 99, 'rVal': 17, 'type': 'C', 'location': 'Porto'}]\n"
     ]
    }
   ],
   "source": [
    "import random\n",
    "from pandas import DataFrame\n",
    "import pandas\n",
    "\n",
    "data_set_1 = [{\"id\": x, \"rVal\": random.randint(1,99),  \"type\": random.choice([\"A\", \"B\", \"C\"]), \"location\": random.choice([\"Porto\", \"Chicago\", \"Cairo\", \"Lagos\", \"Toronto\"]) }  for x in range(100)]\n",
    "print(data_set_1)\n",
    "\n",
    "data_frame_1 = DataFrame(data_set_1)\n",
    "data_frame_1.to_excel(\"cities.xlsx\", sheet_name=\"Cities\")"
   ]
  },
  {
   "cell_type": "markdown",
   "source": [
    "# Read from excel file into a DataFrame"
   ],
   "metadata": {
    "collapsed": false
   }
  },
  {
   "cell_type": "code",
   "execution_count": 19,
   "outputs": [
    {
     "data": {
      "text/plain": "    Unnamed: 0  id  rVal type location\n2            2   2    45    A  Toronto\n3            3   3    16    C  Toronto\n4            4   4    42    B  Chicago\n5            5   5    91    A  Chicago\n6            6   6    22    A  Toronto\n11          11  11    14    A  Toronto\n14          14  14     2    A  Chicago\n27          27  27    86    B  Chicago\n29          29  29     7    A  Chicago\n31          31  31    32    B  Chicago\n32          32  32    29    A  Chicago\n40          40  40     3    C  Toronto\n44          44  44    99    B  Chicago\n45          45  45    31    A  Chicago\n50          50  50    73    A  Chicago\n53          53  53    21    A  Toronto\n59          59  59    49    A  Toronto\n60          60  60    15    A  Toronto\n61          61  61    23    A  Toronto\n62          62  62    45    B  Chicago\n67          67  67    98    A  Toronto\n71          71  71    49    C  Toronto\n73          73  73    41    C  Toronto\n74          74  74    18    C  Toronto\n76          76  76     4    A  Toronto\n78          78  78    78    A  Chicago\n79          79  79    48    C  Chicago\n81          81  81    52    A  Chicago\n82          82  82    78    A  Toronto\n83          83  83     3    A  Chicago\n86          86  86    71    C  Chicago\n87          87  87    10    C  Chicago\n98          98  98    35    A  Toronto",
      "text/html": "<div>\n<style scoped>\n    .dataframe tbody tr th:only-of-type {\n        vertical-align: middle;\n    }\n\n    .dataframe tbody tr th {\n        vertical-align: top;\n    }\n\n    .dataframe thead th {\n        text-align: right;\n    }\n</style>\n<table border=\"1\" class=\"dataframe\">\n  <thead>\n    <tr style=\"text-align: right;\">\n      <th></th>\n      <th>Unnamed: 0</th>\n      <th>id</th>\n      <th>rVal</th>\n      <th>type</th>\n      <th>location</th>\n    </tr>\n  </thead>\n  <tbody>\n    <tr>\n      <th>2</th>\n      <td>2</td>\n      <td>2</td>\n      <td>45</td>\n      <td>A</td>\n      <td>Toronto</td>\n    </tr>\n    <tr>\n      <th>3</th>\n      <td>3</td>\n      <td>3</td>\n      <td>16</td>\n      <td>C</td>\n      <td>Toronto</td>\n    </tr>\n    <tr>\n      <th>4</th>\n      <td>4</td>\n      <td>4</td>\n      <td>42</td>\n      <td>B</td>\n      <td>Chicago</td>\n    </tr>\n    <tr>\n      <th>5</th>\n      <td>5</td>\n      <td>5</td>\n      <td>91</td>\n      <td>A</td>\n      <td>Chicago</td>\n    </tr>\n    <tr>\n      <th>6</th>\n      <td>6</td>\n      <td>6</td>\n      <td>22</td>\n      <td>A</td>\n      <td>Toronto</td>\n    </tr>\n    <tr>\n      <th>11</th>\n      <td>11</td>\n      <td>11</td>\n      <td>14</td>\n      <td>A</td>\n      <td>Toronto</td>\n    </tr>\n    <tr>\n      <th>14</th>\n      <td>14</td>\n      <td>14</td>\n      <td>2</td>\n      <td>A</td>\n      <td>Chicago</td>\n    </tr>\n    <tr>\n      <th>27</th>\n      <td>27</td>\n      <td>27</td>\n      <td>86</td>\n      <td>B</td>\n      <td>Chicago</td>\n    </tr>\n    <tr>\n      <th>29</th>\n      <td>29</td>\n      <td>29</td>\n      <td>7</td>\n      <td>A</td>\n      <td>Chicago</td>\n    </tr>\n    <tr>\n      <th>31</th>\n      <td>31</td>\n      <td>31</td>\n      <td>32</td>\n      <td>B</td>\n      <td>Chicago</td>\n    </tr>\n    <tr>\n      <th>32</th>\n      <td>32</td>\n      <td>32</td>\n      <td>29</td>\n      <td>A</td>\n      <td>Chicago</td>\n    </tr>\n    <tr>\n      <th>40</th>\n      <td>40</td>\n      <td>40</td>\n      <td>3</td>\n      <td>C</td>\n      <td>Toronto</td>\n    </tr>\n    <tr>\n      <th>44</th>\n      <td>44</td>\n      <td>44</td>\n      <td>99</td>\n      <td>B</td>\n      <td>Chicago</td>\n    </tr>\n    <tr>\n      <th>45</th>\n      <td>45</td>\n      <td>45</td>\n      <td>31</td>\n      <td>A</td>\n      <td>Chicago</td>\n    </tr>\n    <tr>\n      <th>50</th>\n      <td>50</td>\n      <td>50</td>\n      <td>73</td>\n      <td>A</td>\n      <td>Chicago</td>\n    </tr>\n    <tr>\n      <th>53</th>\n      <td>53</td>\n      <td>53</td>\n      <td>21</td>\n      <td>A</td>\n      <td>Toronto</td>\n    </tr>\n    <tr>\n      <th>59</th>\n      <td>59</td>\n      <td>59</td>\n      <td>49</td>\n      <td>A</td>\n      <td>Toronto</td>\n    </tr>\n    <tr>\n      <th>60</th>\n      <td>60</td>\n      <td>60</td>\n      <td>15</td>\n      <td>A</td>\n      <td>Toronto</td>\n    </tr>\n    <tr>\n      <th>61</th>\n      <td>61</td>\n      <td>61</td>\n      <td>23</td>\n      <td>A</td>\n      <td>Toronto</td>\n    </tr>\n    <tr>\n      <th>62</th>\n      <td>62</td>\n      <td>62</td>\n      <td>45</td>\n      <td>B</td>\n      <td>Chicago</td>\n    </tr>\n    <tr>\n      <th>67</th>\n      <td>67</td>\n      <td>67</td>\n      <td>98</td>\n      <td>A</td>\n      <td>Toronto</td>\n    </tr>\n    <tr>\n      <th>71</th>\n      <td>71</td>\n      <td>71</td>\n      <td>49</td>\n      <td>C</td>\n      <td>Toronto</td>\n    </tr>\n    <tr>\n      <th>73</th>\n      <td>73</td>\n      <td>73</td>\n      <td>41</td>\n      <td>C</td>\n      <td>Toronto</td>\n    </tr>\n    <tr>\n      <th>74</th>\n      <td>74</td>\n      <td>74</td>\n      <td>18</td>\n      <td>C</td>\n      <td>Toronto</td>\n    </tr>\n    <tr>\n      <th>76</th>\n      <td>76</td>\n      <td>76</td>\n      <td>4</td>\n      <td>A</td>\n      <td>Toronto</td>\n    </tr>\n    <tr>\n      <th>78</th>\n      <td>78</td>\n      <td>78</td>\n      <td>78</td>\n      <td>A</td>\n      <td>Chicago</td>\n    </tr>\n    <tr>\n      <th>79</th>\n      <td>79</td>\n      <td>79</td>\n      <td>48</td>\n      <td>C</td>\n      <td>Chicago</td>\n    </tr>\n    <tr>\n      <th>81</th>\n      <td>81</td>\n      <td>81</td>\n      <td>52</td>\n      <td>A</td>\n      <td>Chicago</td>\n    </tr>\n    <tr>\n      <th>82</th>\n      <td>82</td>\n      <td>82</td>\n      <td>78</td>\n      <td>A</td>\n      <td>Toronto</td>\n    </tr>\n    <tr>\n      <th>83</th>\n      <td>83</td>\n      <td>83</td>\n      <td>3</td>\n      <td>A</td>\n      <td>Chicago</td>\n    </tr>\n    <tr>\n      <th>86</th>\n      <td>86</td>\n      <td>86</td>\n      <td>71</td>\n      <td>C</td>\n      <td>Chicago</td>\n    </tr>\n    <tr>\n      <th>87</th>\n      <td>87</td>\n      <td>87</td>\n      <td>10</td>\n      <td>C</td>\n      <td>Chicago</td>\n    </tr>\n    <tr>\n      <th>98</th>\n      <td>98</td>\n      <td>98</td>\n      <td>35</td>\n      <td>A</td>\n      <td>Toronto</td>\n    </tr>\n  </tbody>\n</table>\n</div>"
     },
     "execution_count": 19,
     "metadata": {},
     "output_type": "execute_result"
    }
   ],
   "source": [
    "xlfile : pandas.ExcelFile  = pandas.ExcelFile(\"cities.xlsx\")\n",
    "data_frame_2 : DataFrame = pandas.read_excel(xlfile, sheet_name=\"Cities\")\n",
    "\n"
   ],
   "metadata": {
    "collapsed": false,
    "pycharm": {
     "name": "#%%\n"
    }
   }
  },
  {
   "cell_type": "markdown",
   "source": [
    "# Filter the DataFrame with the query function"
   ],
   "metadata": {
    "collapsed": false
   }
  },
  {
   "cell_type": "code",
   "execution_count": 20,
   "outputs": [
    {
     "data": {
      "text/plain": "    Unnamed: 0  id  rVal type location\n2            2   2    45    A  Toronto\n3            3   3    16    C  Toronto\n4            4   4    42    B  Chicago\n5            5   5    91    A  Chicago\n6            6   6    22    A  Toronto\n11          11  11    14    A  Toronto\n14          14  14     2    A  Chicago\n27          27  27    86    B  Chicago\n29          29  29     7    A  Chicago\n31          31  31    32    B  Chicago\n32          32  32    29    A  Chicago\n40          40  40     3    C  Toronto\n44          44  44    99    B  Chicago\n45          45  45    31    A  Chicago\n50          50  50    73    A  Chicago\n53          53  53    21    A  Toronto\n59          59  59    49    A  Toronto\n60          60  60    15    A  Toronto\n61          61  61    23    A  Toronto\n62          62  62    45    B  Chicago\n67          67  67    98    A  Toronto\n71          71  71    49    C  Toronto\n73          73  73    41    C  Toronto\n74          74  74    18    C  Toronto\n76          76  76     4    A  Toronto\n78          78  78    78    A  Chicago\n79          79  79    48    C  Chicago\n81          81  81    52    A  Chicago\n82          82  82    78    A  Toronto\n83          83  83     3    A  Chicago\n86          86  86    71    C  Chicago\n87          87  87    10    C  Chicago\n98          98  98    35    A  Toronto",
      "text/html": "<div>\n<style scoped>\n    .dataframe tbody tr th:only-of-type {\n        vertical-align: middle;\n    }\n\n    .dataframe tbody tr th {\n        vertical-align: top;\n    }\n\n    .dataframe thead th {\n        text-align: right;\n    }\n</style>\n<table border=\"1\" class=\"dataframe\">\n  <thead>\n    <tr style=\"text-align: right;\">\n      <th></th>\n      <th>Unnamed: 0</th>\n      <th>id</th>\n      <th>rVal</th>\n      <th>type</th>\n      <th>location</th>\n    </tr>\n  </thead>\n  <tbody>\n    <tr>\n      <th>2</th>\n      <td>2</td>\n      <td>2</td>\n      <td>45</td>\n      <td>A</td>\n      <td>Toronto</td>\n    </tr>\n    <tr>\n      <th>3</th>\n      <td>3</td>\n      <td>3</td>\n      <td>16</td>\n      <td>C</td>\n      <td>Toronto</td>\n    </tr>\n    <tr>\n      <th>4</th>\n      <td>4</td>\n      <td>4</td>\n      <td>42</td>\n      <td>B</td>\n      <td>Chicago</td>\n    </tr>\n    <tr>\n      <th>5</th>\n      <td>5</td>\n      <td>5</td>\n      <td>91</td>\n      <td>A</td>\n      <td>Chicago</td>\n    </tr>\n    <tr>\n      <th>6</th>\n      <td>6</td>\n      <td>6</td>\n      <td>22</td>\n      <td>A</td>\n      <td>Toronto</td>\n    </tr>\n    <tr>\n      <th>11</th>\n      <td>11</td>\n      <td>11</td>\n      <td>14</td>\n      <td>A</td>\n      <td>Toronto</td>\n    </tr>\n    <tr>\n      <th>14</th>\n      <td>14</td>\n      <td>14</td>\n      <td>2</td>\n      <td>A</td>\n      <td>Chicago</td>\n    </tr>\n    <tr>\n      <th>27</th>\n      <td>27</td>\n      <td>27</td>\n      <td>86</td>\n      <td>B</td>\n      <td>Chicago</td>\n    </tr>\n    <tr>\n      <th>29</th>\n      <td>29</td>\n      <td>29</td>\n      <td>7</td>\n      <td>A</td>\n      <td>Chicago</td>\n    </tr>\n    <tr>\n      <th>31</th>\n      <td>31</td>\n      <td>31</td>\n      <td>32</td>\n      <td>B</td>\n      <td>Chicago</td>\n    </tr>\n    <tr>\n      <th>32</th>\n      <td>32</td>\n      <td>32</td>\n      <td>29</td>\n      <td>A</td>\n      <td>Chicago</td>\n    </tr>\n    <tr>\n      <th>40</th>\n      <td>40</td>\n      <td>40</td>\n      <td>3</td>\n      <td>C</td>\n      <td>Toronto</td>\n    </tr>\n    <tr>\n      <th>44</th>\n      <td>44</td>\n      <td>44</td>\n      <td>99</td>\n      <td>B</td>\n      <td>Chicago</td>\n    </tr>\n    <tr>\n      <th>45</th>\n      <td>45</td>\n      <td>45</td>\n      <td>31</td>\n      <td>A</td>\n      <td>Chicago</td>\n    </tr>\n    <tr>\n      <th>50</th>\n      <td>50</td>\n      <td>50</td>\n      <td>73</td>\n      <td>A</td>\n      <td>Chicago</td>\n    </tr>\n    <tr>\n      <th>53</th>\n      <td>53</td>\n      <td>53</td>\n      <td>21</td>\n      <td>A</td>\n      <td>Toronto</td>\n    </tr>\n    <tr>\n      <th>59</th>\n      <td>59</td>\n      <td>59</td>\n      <td>49</td>\n      <td>A</td>\n      <td>Toronto</td>\n    </tr>\n    <tr>\n      <th>60</th>\n      <td>60</td>\n      <td>60</td>\n      <td>15</td>\n      <td>A</td>\n      <td>Toronto</td>\n    </tr>\n    <tr>\n      <th>61</th>\n      <td>61</td>\n      <td>61</td>\n      <td>23</td>\n      <td>A</td>\n      <td>Toronto</td>\n    </tr>\n    <tr>\n      <th>62</th>\n      <td>62</td>\n      <td>62</td>\n      <td>45</td>\n      <td>B</td>\n      <td>Chicago</td>\n    </tr>\n    <tr>\n      <th>67</th>\n      <td>67</td>\n      <td>67</td>\n      <td>98</td>\n      <td>A</td>\n      <td>Toronto</td>\n    </tr>\n    <tr>\n      <th>71</th>\n      <td>71</td>\n      <td>71</td>\n      <td>49</td>\n      <td>C</td>\n      <td>Toronto</td>\n    </tr>\n    <tr>\n      <th>73</th>\n      <td>73</td>\n      <td>73</td>\n      <td>41</td>\n      <td>C</td>\n      <td>Toronto</td>\n    </tr>\n    <tr>\n      <th>74</th>\n      <td>74</td>\n      <td>74</td>\n      <td>18</td>\n      <td>C</td>\n      <td>Toronto</td>\n    </tr>\n    <tr>\n      <th>76</th>\n      <td>76</td>\n      <td>76</td>\n      <td>4</td>\n      <td>A</td>\n      <td>Toronto</td>\n    </tr>\n    <tr>\n      <th>78</th>\n      <td>78</td>\n      <td>78</td>\n      <td>78</td>\n      <td>A</td>\n      <td>Chicago</td>\n    </tr>\n    <tr>\n      <th>79</th>\n      <td>79</td>\n      <td>79</td>\n      <td>48</td>\n      <td>C</td>\n      <td>Chicago</td>\n    </tr>\n    <tr>\n      <th>81</th>\n      <td>81</td>\n      <td>81</td>\n      <td>52</td>\n      <td>A</td>\n      <td>Chicago</td>\n    </tr>\n    <tr>\n      <th>82</th>\n      <td>82</td>\n      <td>82</td>\n      <td>78</td>\n      <td>A</td>\n      <td>Toronto</td>\n    </tr>\n    <tr>\n      <th>83</th>\n      <td>83</td>\n      <td>83</td>\n      <td>3</td>\n      <td>A</td>\n      <td>Chicago</td>\n    </tr>\n    <tr>\n      <th>86</th>\n      <td>86</td>\n      <td>86</td>\n      <td>71</td>\n      <td>C</td>\n      <td>Chicago</td>\n    </tr>\n    <tr>\n      <th>87</th>\n      <td>87</td>\n      <td>87</td>\n      <td>10</td>\n      <td>C</td>\n      <td>Chicago</td>\n    </tr>\n    <tr>\n      <th>98</th>\n      <td>98</td>\n      <td>98</td>\n      <td>35</td>\n      <td>A</td>\n      <td>Toronto</td>\n    </tr>\n  </tbody>\n</table>\n</div>"
     },
     "execution_count": 20,
     "metadata": {},
     "output_type": "execute_result"
    }
   ],
   "source": [
    "\n",
    "data_frame_2.query('location in [\"Chicago\", \"Toronto\"]')"
   ],
   "metadata": {
    "collapsed": false,
    "pycharm": {
     "name": "#%%\n"
    }
   }
  }
 ],
 "metadata": {
  "kernelspec": {
   "display_name": "Python 3",
   "language": "python",
   "name": "python3"
  },
  "language_info": {
   "codemirror_mode": {
    "name": "ipython",
    "version": 2
   },
   "file_extension": ".py",
   "mimetype": "text/x-python",
   "name": "python",
   "nbconvert_exporter": "python",
   "pygments_lexer": "ipython2",
   "version": "2.7.6"
  }
 },
 "nbformat": 4,
 "nbformat_minor": 0
}