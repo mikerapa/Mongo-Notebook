{
 "cells": [
  {
   "cell_type": "code",
   "execution_count": 1,
   "metadata": {
    "collapsed": true
   },
   "outputs": [
    {
     "name": "stdout",
     "output_type": "stream",
     "text": [
      "sampleimport.xlsx\n",
      "sampleimport\n",
      "database name: sampleimport\n",
      "importing Cities\n",
      "importing People\n"
     ]
    }
   ],
   "source": [
    "from pymongo import MongoClient\n",
    "from pathlib import Path\n",
    "from MongoHelper import import_excel_to_db\n",
    "\n",
    "EXCEL_FILE_PATH = \"sampleimport.xlsx\"\n",
    "print(Path(EXCEL_FILE_PATH))\n",
    "print(Path(EXCEL_FILE_PATH).stem)\n",
    "client = MongoClient('mongodb://127.0.0.1:27017/')\n",
    "import_excel_to_db(client, EXCEL_FILE_PATH )"
   ]
  }
 ],
 "metadata": {
  "kernelspec": {
   "display_name": "Python 3",
   "language": "python",
   "name": "python3"
  },
  "language_info": {
   "codemirror_mode": {
    "name": "ipython",
    "version": 2
   },
   "file_extension": ".py",
   "mimetype": "text/x-python",
   "name": "python",
   "nbconvert_exporter": "python",
   "pygments_lexer": "ipython2",
   "version": "2.7.6"
  }
 },
 "nbformat": 4,
 "nbformat_minor": 0
}