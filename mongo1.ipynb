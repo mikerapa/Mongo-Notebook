{
 "cells": [
  {
   "cell_type": "markdown",
   "source": [
    "# Starting the mongo server\n",
    "Before running the following segments, run the folloging in the terminal to start the MongoDB service.\n",
    "`sudo systemctl start mongod`"
   ],
   "metadata": {
    "collapsed": false
   }
  },
  {
   "cell_type": "code",
   "execution_count": 1,
   "metadata": {
    "collapsed": true
   },
   "outputs": [
    {
     "name": "stderr",
     "output_type": "stream",
     "text": [
      "/home/mike/Code/python3/mongoexample/venv/lib/python3.9/site-packages/pymongo/compression_support.py:56: UserWarning: Unsupported compressor: disabled\n",
      "  warnings.warn(\"Unsupported compressor: %s\" % (compressor,))\n",
      "/home/mike/Code/python3/mongoexample/venv/lib/python3.9/site-packages/pymongo/common.py:803: UserWarning: Unknown option gssapiservicename\n",
      "  warnings.warn(str(exc))\n"
     ]
    }
   ],
   "source": [
    "from pymongo import MongoClient\n",
    "import pymongo\n",
    "\n",
    "CONNECTION_STRING = \"mongodb://127.0.0.1:27017/?compressors=disabled&gssapiServiceName=mongodb\"\n",
    "from pymongo import MongoClient\n",
    "client = MongoClient(CONNECTION_STRING)\n",
    "\n",
    "sampleDB= client[\"SampleDB\"]\n",
    "sample_data_collection = sampleDB[\"SampleCollection\"]"
   ]
  },
  {
   "cell_type": "markdown",
   "source": [
    "# add a record\n",
    "create a random number and insert a record with it"
   ],
   "metadata": {
    "collapsed": false
   }
  },
  {
   "cell_type": "code",
   "execution_count": 5,
   "outputs": [
    {
     "name": "stdout",
     "output_type": "stream",
     "text": [
      "creating new record for number 143\n"
     ]
    },
    {
     "data": {
      "text/plain": "<pymongo.results.InsertOneResult at 0x7f424f6e4c80>"
     },
     "execution_count": 5,
     "metadata": {},
     "output_type": "execute_result"
    }
   ],
   "source": [
    "import random\n",
    "\n",
    "rn = random.randint(0, 256)\n",
    "new_record = {\"id\": rn, \"name\": f\"record number{rn}\" }\n",
    "print(f\"creating new record for number {rn}\")\n",
    "sample_data_collection.insert_one(new_record)\n"
   ],
   "metadata": {
    "collapsed": false,
    "pycharm": {
     "name": "#%%\n"
    }
   }
  },
  {
   "cell_type": "markdown",
   "source": [
    "# query for the contents of the collection\n",
    "Get every item in the data collection"
   ],
   "metadata": {
    "collapsed": false
   }
  },
  {
   "cell_type": "code",
   "execution_count": 6,
   "outputs": [
    {
     "name": "stdout",
     "output_type": "stream",
     "text": [
      "ID= 72 name= record number72\n",
      "ID= 69 name= record number69\n",
      "ID= 227 name= record number227\n",
      "ID= 47 name= record number47\n",
      "ID= 31 name= record number31\n",
      "ID= 56 name= record number56\n",
      "ID= 238 name= record number238\n",
      "ID= 229 name= record number229\n",
      "ID= 98 name= record number98\n",
      "ID= 143 name= record number143\n"
     ]
    }
   ],
   "source": [
    "all_items = sample_data_collection.find()\n",
    "for item in all_items:\n",
    "    print(f\"ID= {item['id']} name= {item['name']}\")"
   ],
   "metadata": {
    "collapsed": false,
    "pycharm": {
     "name": "#%%\n"
    }
   }
  },
  {
   "cell_type": "markdown",
   "source": [
    "# find some of the records based on criteria\n",
    "Need to use $gt for greater than and $lt for less than\n",
    "Use the sort() function"
   ],
   "metadata": {
    "collapsed": false
   }
  },
  {
   "cell_type": "code",
   "execution_count": 18,
   "outputs": [
    {
     "name": "stdout",
     "output_type": "stream",
     "text": [
      "ID= 227 name= record number227\n",
      "ID= 229 name= record number229\n",
      "ID= 238 name= record number238\n",
      "done showing the results\n"
     ]
    }
   ],
   "source": [
    "items_with_high_ids = sample_data_collection.find({\"id\":{\"$gt\":100}}).sort(\"id\")\n",
    "for item in items_with_high_ids:\n",
    "    print(f\"ID= {item['id']} name= {item['name']}\")\n",
    "\n",
    "print(\"done showing the results\")"
   ],
   "metadata": {
    "collapsed": false,
    "pycharm": {
     "name": "#%%\n"
    }
   }
  },
  {
   "cell_type": "markdown",
   "source": [
    "# show data with pandas\n",
    "Put all of the data into a dataframe and print it."
   ],
   "metadata": {
    "collapsed": false
   }
  },
  {
   "cell_type": "code",
   "execution_count": 20,
   "outputs": [
    {
     "name": "stdout",
     "output_type": "stream",
     "text": [
      "                        _id   id              name\n",
      "0  61ac0e09024480bda952c55e   31   record number31\n",
      "1  61abe7f4df35ef4a766e642e   47   record number47\n",
      "2  61ac0e5d024480bda952c55f   56   record number56\n",
      "3  61abe526df35ef4a766e642c   69   record number69\n",
      "4  61abe50adf35ef4a766e642b   72   record number72\n",
      "5  61ac40bb1a0649456fef7c8f   98   record number98\n",
      "6  61abe7e9df35ef4a766e642d  227  record number227\n",
      "7  61ac3dfe1a0649456fef7c8e  229  record number229\n",
      "8  61ac38ec1a0649456fef7c8d  238  record number238\n"
     ]
    }
   ],
   "source": [
    "from pandas import DataFrame\n",
    "all_items = sample_data_collection.find().sort(\"id\")\n",
    "items_data_frame = DataFrame(all_items)\n",
    "print(items_data_frame)"
   ],
   "metadata": {
    "collapsed": false,
    "pycharm": {
     "name": "#%%\n"
    }
   }
  },
  {
   "cell_type": "markdown",
   "source": [
    "# Read data from an excel file into the MongoDB\n"
   ],
   "metadata": {
    "collapsed": false
   }
  },
  {
   "cell_type": "code",
   "execution_count": 35,
   "outputs": [
    {
     "name": "stdout",
     "output_type": "stream",
     "text": [
      "{'id': 0, 'rVal': 34, 'type': 'C', 'location': 'La Paz'}\n",
      "{'id': 1, 'rVal': 49, 'type': 'C', 'location': 'Port au Prince'}\n",
      "{'id': 2, 'rVal': 32, 'type': 'C', 'location': 'Chicago'}\n",
      "{'id': 3, 'rVal': 54, 'type': 'C', 'location': 'Chicago'}\n",
      "{'id': 4, 'rVal': 24, 'type': 'C', 'location': 'Cairo'}\n",
      "{'id': 5, 'rVal': 66, 'type': 'A', 'location': 'La Paz'}\n",
      "{'id': 6, 'rVal': 99, 'type': 'B', 'location': 'Porto'}\n",
      "{'id': 7, 'rVal': 46, 'type': 'B', 'location': 'Chicago'}\n",
      "{'id': 8, 'rVal': 15, 'type': 'C', 'location': 'Chicago'}\n",
      "{'id': 9, 'rVal': 36, 'type': 'C', 'location': 'Toronto'}\n",
      "{'id': 10, 'rVal': 15, 'type': 'C', 'location': 'Port au Prince'}\n",
      "{'id': 11, 'rVal': 7, 'type': 'B', 'location': 'La Paz'}\n",
      "{'id': 12, 'rVal': 2, 'type': 'B', 'location': 'Port au Prince'}\n",
      "{'id': 13, 'rVal': 62, 'type': 'B', 'location': 'La Paz'}\n",
      "{'id': 14, 'rVal': 48, 'type': 'B', 'location': 'Toronto'}\n",
      "{'id': 15, 'rVal': 91, 'type': 'B', 'location': 'Mumbai'}\n",
      "{'id': 16, 'rVal': 6, 'type': 'A', 'location': 'La Paz'}\n",
      "{'id': 17, 'rVal': 48, 'type': 'B', 'location': 'La Paz'}\n",
      "{'id': 18, 'rVal': 83, 'type': 'B', 'location': 'Cairo'}\n",
      "{'id': 19, 'rVal': 7, 'type': 'B', 'location': 'Chicago'}\n",
      "{'id': 20, 'rVal': 41, 'type': 'B', 'location': 'Toronto'}\n",
      "{'id': 21, 'rVal': 32, 'type': 'A', 'location': 'Chicago'}\n",
      "{'id': 22, 'rVal': 84, 'type': 'C', 'location': 'La Paz'}\n",
      "{'id': 23, 'rVal': 47, 'type': 'B', 'location': 'Lagos'}\n",
      "{'id': 24, 'rVal': 64, 'type': 'C', 'location': 'Toronto'}\n",
      "{'id': 25, 'rVal': 97, 'type': 'B', 'location': 'Lagos'}\n",
      "{'id': 26, 'rVal': 56, 'type': 'B', 'location': 'Porto'}\n",
      "{'id': 27, 'rVal': 49, 'type': 'A', 'location': 'Chicago'}\n",
      "{'id': 28, 'rVal': 49, 'type': 'B', 'location': 'Port au Prince'}\n",
      "{'id': 29, 'rVal': 38, 'type': 'A', 'location': 'Cairo'}\n",
      "{'id': 30, 'rVal': 81, 'type': 'C', 'location': 'Chicago'}\n",
      "{'id': 31, 'rVal': 42, 'type': 'A', 'location': 'Toronto'}\n",
      "{'id': 32, 'rVal': 86, 'type': 'C', 'location': 'Port au Prince'}\n",
      "{'id': 33, 'rVal': 37, 'type': 'B', 'location': 'Toronto'}\n",
      "{'id': 34, 'rVal': 38, 'type': 'C', 'location': 'Lagos'}\n",
      "{'id': 35, 'rVal': 84, 'type': 'C', 'location': 'Chicago'}\n",
      "{'id': 36, 'rVal': 70, 'type': 'B', 'location': 'Mumbai'}\n",
      "{'id': 37, 'rVal': 7, 'type': 'B', 'location': 'Cairo'}\n",
      "{'id': 38, 'rVal': 2, 'type': 'C', 'location': 'Cairo'}\n",
      "{'id': 39, 'rVal': 52, 'type': 'C', 'location': 'La Paz'}\n",
      "{'id': 40, 'rVal': 3, 'type': 'B', 'location': 'Lagos'}\n",
      "{'id': 41, 'rVal': 57, 'type': 'C', 'location': 'Mumbai'}\n",
      "{'id': 42, 'rVal': 38, 'type': 'C', 'location': 'La Paz'}\n",
      "{'id': 43, 'rVal': 53, 'type': 'C', 'location': 'Toronto'}\n",
      "{'id': 44, 'rVal': 51, 'type': 'C', 'location': 'La Paz'}\n",
      "{'id': 45, 'rVal': 68, 'type': 'C', 'location': 'Mumbai'}\n",
      "{'id': 46, 'rVal': 50, 'type': 'C', 'location': 'Cairo'}\n",
      "{'id': 47, 'rVal': 28, 'type': 'C', 'location': 'Port au Prince'}\n",
      "{'id': 48, 'rVal': 63, 'type': 'B', 'location': 'La Paz'}\n",
      "{'id': 49, 'rVal': 65, 'type': 'C', 'location': 'La Paz'}\n",
      "{'id': 50, 'rVal': 56, 'type': 'C', 'location': 'Port au Prince'}\n",
      "{'id': 51, 'rVal': 53, 'type': 'B', 'location': 'Cairo'}\n",
      "{'id': 52, 'rVal': 62, 'type': 'A', 'location': 'Chicago'}\n",
      "{'id': 53, 'rVal': 20, 'type': 'A', 'location': 'Mumbai'}\n",
      "{'id': 54, 'rVal': 46, 'type': 'B', 'location': 'Porto'}\n",
      "{'id': 55, 'rVal': 12, 'type': 'B', 'location': 'Cairo'}\n",
      "{'id': 56, 'rVal': 40, 'type': 'C', 'location': 'Mumbai'}\n",
      "{'id': 57, 'rVal': 91, 'type': 'B', 'location': 'Chicago'}\n",
      "{'id': 58, 'rVal': 84, 'type': 'C', 'location': 'Chicago'}\n",
      "{'id': 59, 'rVal': 4, 'type': 'C', 'location': 'Porto'}\n",
      "{'id': 60, 'rVal': 75, 'type': 'B', 'location': 'Porto'}\n",
      "{'id': 61, 'rVal': 47, 'type': 'B', 'location': 'Mumbai'}\n",
      "{'id': 62, 'rVal': 73, 'type': 'B', 'location': 'Chicago'}\n",
      "{'id': 63, 'rVal': 69, 'type': 'B', 'location': 'Chicago'}\n",
      "{'id': 64, 'rVal': 91, 'type': 'B', 'location': 'Mumbai'}\n",
      "{'id': 65, 'rVal': 26, 'type': 'A', 'location': 'Chicago'}\n",
      "{'id': 66, 'rVal': 36, 'type': 'B', 'location': 'Cairo'}\n",
      "{'id': 67, 'rVal': 41, 'type': 'A', 'location': 'Toronto'}\n",
      "{'id': 68, 'rVal': 9, 'type': 'C', 'location': 'Cairo'}\n",
      "{'id': 69, 'rVal': 53, 'type': 'B', 'location': 'Port au Prince'}\n",
      "{'id': 70, 'rVal': 97, 'type': 'B', 'location': 'Lagos'}\n",
      "{'id': 71, 'rVal': 8, 'type': 'B', 'location': 'Mumbai'}\n",
      "{'id': 72, 'rVal': 27, 'type': 'B', 'location': 'Toronto'}\n",
      "{'id': 73, 'rVal': 92, 'type': 'B', 'location': 'Chicago'}\n",
      "{'id': 74, 'rVal': 98, 'type': 'B', 'location': 'Cairo'}\n",
      "{'id': 75, 'rVal': 60, 'type': 'A', 'location': 'Chicago'}\n",
      "{'id': 76, 'rVal': 23, 'type': 'A', 'location': 'Port au Prince'}\n",
      "{'id': 77, 'rVal': 50, 'type': 'B', 'location': 'Porto'}\n",
      "{'id': 78, 'rVal': 41, 'type': 'B', 'location': 'Port au Prince'}\n",
      "{'id': 79, 'rVal': 55, 'type': 'C', 'location': 'Cairo'}\n",
      "{'id': 80, 'rVal': 17, 'type': 'C', 'location': 'Porto'}\n",
      "{'id': 81, 'rVal': 28, 'type': 'A', 'location': 'Lagos'}\n",
      "{'id': 82, 'rVal': 73, 'type': 'C', 'location': 'Toronto'}\n",
      "{'id': 83, 'rVal': 30, 'type': 'B', 'location': 'Port au Prince'}\n",
      "{'id': 84, 'rVal': 72, 'type': 'C', 'location': 'La Paz'}\n",
      "{'id': 85, 'rVal': 67, 'type': 'A', 'location': 'Lagos'}\n",
      "{'id': 86, 'rVal': 2, 'type': 'C', 'location': 'Chicago'}\n",
      "{'id': 87, 'rVal': 78, 'type': 'A', 'location': 'Chicago'}\n",
      "{'id': 88, 'rVal': 30, 'type': 'B', 'location': 'Lagos'}\n",
      "{'id': 89, 'rVal': 53, 'type': 'B', 'location': 'Lagos'}\n",
      "{'id': 90, 'rVal': 6, 'type': 'C', 'location': 'Toronto'}\n",
      "{'id': 91, 'rVal': 2, 'type': 'B', 'location': 'Lagos'}\n",
      "{'id': 92, 'rVal': 13, 'type': 'B', 'location': 'Toronto'}\n",
      "{'id': 93, 'rVal': 16, 'type': 'B', 'location': 'Lagos'}\n",
      "{'id': 94, 'rVal': 83, 'type': 'A', 'location': 'Porto'}\n",
      "{'id': 95, 'rVal': 78, 'type': 'B', 'location': 'La Paz'}\n",
      "{'id': 96, 'rVal': 85, 'type': 'B', 'location': 'Toronto'}\n",
      "{'id': 97, 'rVal': 22, 'type': 'C', 'location': 'La Paz'}\n",
      "{'id': 98, 'rVal': 39, 'type': 'C', 'location': 'Lagos'}\n",
      "{'id': 99, 'rVal': 56, 'type': 'C', 'location': 'Porto'}\n"
     ]
    }
   ],
   "source": [
    "import pandas\n",
    "import random\n",
    "\n",
    "client = MongoClient('mongodb://127.0.0.1:27017/')\n",
    "\n",
    "# Create the sample Excel file to use\n",
    "cities_dataset = [{\"id\": x, \"rVal\": random.randint(1,99),  \"type\": random.choice([\"A\", \"B\", \"C\"]), \"location\": random.choice([\"Porto\", \"Chicago\", \"Cairo\", \"Lagos\", \"Toronto\", \"La Paz\", \"Port au Prince\", \"Mumbai\" ]) }  for x in range(100)]\n",
    "\n",
    "cities_dataframe = DataFrame(cities_dataset)\n",
    "cities_dataframe.to_excel(\"cities2.xlsx\", sheet_name=\"Cities\")\n",
    "\n",
    "# Read from the Excel file\n",
    "xlfile : pandas.ExcelFile  = pandas.ExcelFile(\"cities2.xlsx\")\n",
    "cities_dataframe_2 : DataFrame = pandas.read_excel(xlfile, sheet_name=\"Cities\")\n",
    "\n",
    "sampleDB= client[\"SampleDB\"]\n",
    "cities_collection = sampleDB[\"Cities\"]\n",
    "\n",
    "for row in cities_dataframe_2.iterrows():\n",
    "    row_dict = row[1].to_dict()\n",
    "    row_dict.pop(\"Unnamed: 0\")\n",
    "    print(row_dict)\n",
    "#     cities_collection.insert_one(row.)\n",
    "    cities_collection.insert_one(row_dict)\n",
    "\n"
   ],
   "metadata": {
    "collapsed": false,
    "pycharm": {
     "name": "#%%\n"
    }
   }
  },
  {
   "cell_type": "markdown",
   "source": [
    "# Shutting down the MongoDB service\n",
    "`sudo systemctl stop mongod`"
   ],
   "metadata": {
    "collapsed": false,
    "pycharm": {
     "name": "#%% md\n"
    }
   }
  }
 ],
 "metadata": {
  "kernelspec": {
   "display_name": "Python 3",
   "language": "python",
   "name": "python3"
  },
  "language_info": {
   "codemirror_mode": {
    "name": "ipython",
    "version": 2
   },
   "file_extension": ".py",
   "mimetype": "text/x-python",
   "name": "python",
   "nbconvert_exporter": "python",
   "pygments_lexer": "ipython2",
   "version": "2.7.6"
  }
 },
 "nbformat": 4,
 "nbformat_minor": 0
}