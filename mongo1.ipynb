{
 "cells": [
  {
   "cell_type": "markdown",
   "source": [
    "# Starting the mongo server\n",
    "Before running the following segments, run the folloging in the terminal to start the MongoDB service.\n",
    "`sudo systemctl start mongod`"
   ],
   "metadata": {
    "collapsed": false
   }
  },
  {
   "cell_type": "code",
   "execution_count": 4,
   "metadata": {
    "collapsed": true
   },
   "outputs": [],
   "source": [
    "from pymongo import MongoClient\n",
    "import pymongo\n",
    "\n",
    "CONNECTION_STRING = \"mongodb://127.0.0.1:27017/?compressors=disabled&gssapiServiceName=mongodb\"\n",
    "from pymongo import MongoClient\n",
    "client = MongoClient(CONNECTION_STRING)\n",
    "\n",
    "sampleDB= client[\"SampleDB\"]\n",
    "sample_data_collection = sampleDB[\"SampleCollection\"]"
   ]
  },
  {
   "cell_type": "markdown",
   "source": [
    "# add a record\n",
    "create a random number and insert a record with it"
   ],
   "metadata": {
    "collapsed": false
   }
  },
  {
   "cell_type": "code",
   "execution_count": 5,
   "outputs": [
    {
     "name": "stdout",
     "output_type": "stream",
     "text": [
      "creating new record for number 143\n"
     ]
    },
    {
     "data": {
      "text/plain": "<pymongo.results.InsertOneResult at 0x7f424f6e4c80>"
     },
     "execution_count": 5,
     "metadata": {},
     "output_type": "execute_result"
    }
   ],
   "source": [
    "import random\n",
    "\n",
    "rn = random.randint(0, 256)\n",
    "new_record = {\"id\": rn, \"name\": f\"record number{rn}\" }\n",
    "print(f\"creating new record for number {rn}\")\n",
    "sample_data_collection.insert_one(new_record)\n"
   ],
   "metadata": {
    "collapsed": false,
    "pycharm": {
     "name": "#%%\n"
    }
   }
  },
  {
   "cell_type": "markdown",
   "source": [
    "# query for the contents of the collection\n",
    "Get every item in the data collection"
   ],
   "metadata": {
    "collapsed": false
   }
  },
  {
   "cell_type": "code",
   "execution_count": 6,
   "outputs": [
    {
     "name": "stdout",
     "output_type": "stream",
     "text": [
      "ID= 72 name= record number72\n",
      "ID= 69 name= record number69\n",
      "ID= 227 name= record number227\n",
      "ID= 47 name= record number47\n",
      "ID= 31 name= record number31\n",
      "ID= 56 name= record number56\n",
      "ID= 238 name= record number238\n",
      "ID= 229 name= record number229\n",
      "ID= 98 name= record number98\n",
      "ID= 143 name= record number143\n"
     ]
    }
   ],
   "source": [
    "all_items = sample_data_collection.find()\n",
    "for item in all_items:\n",
    "    print(f\"ID= {item['id']} name= {item['name']}\")"
   ],
   "metadata": {
    "collapsed": false,
    "pycharm": {
     "name": "#%%\n"
    }
   }
  },
  {
   "cell_type": "markdown",
   "source": [
    "# find some of the records based on criteria\n",
    "Need to use $gt for greater than and $lt for less than\n",
    "Use the sort() function"
   ],
   "metadata": {
    "collapsed": false
   }
  },
  {
   "cell_type": "code",
   "execution_count": 18,
   "outputs": [
    {
     "name": "stdout",
     "output_type": "stream",
     "text": [
      "ID= 227 name= record number227\n",
      "ID= 229 name= record number229\n",
      "ID= 238 name= record number238\n",
      "done showing the results\n"
     ]
    }
   ],
   "source": [
    "items_with_high_ids = sample_data_collection.find({\"id\":{\"$gt\":100}}).sort(\"id\")\n",
    "for item in items_with_high_ids:\n",
    "    print(f\"ID= {item['id']} name= {item['name']}\")\n",
    "\n",
    "print(\"done showing the results\")"
   ],
   "metadata": {
    "collapsed": false,
    "pycharm": {
     "name": "#%%\n"
    }
   }
  },
  {
   "cell_type": "markdown",
   "source": [
    "# show data with pandas\n",
    "Put all of the data into a dataframe and print it."
   ],
   "metadata": {
    "collapsed": false
   }
  },
  {
   "cell_type": "code",
   "execution_count": 20,
   "outputs": [
    {
     "name": "stdout",
     "output_type": "stream",
     "text": [
      "                        _id   id              name\n",
      "0  61ac0e09024480bda952c55e   31   record number31\n",
      "1  61abe7f4df35ef4a766e642e   47   record number47\n",
      "2  61ac0e5d024480bda952c55f   56   record number56\n",
      "3  61abe526df35ef4a766e642c   69   record number69\n",
      "4  61abe50adf35ef4a766e642b   72   record number72\n",
      "5  61ac40bb1a0649456fef7c8f   98   record number98\n",
      "6  61abe7e9df35ef4a766e642d  227  record number227\n",
      "7  61ac3dfe1a0649456fef7c8e  229  record number229\n",
      "8  61ac38ec1a0649456fef7c8d  238  record number238\n"
     ]
    }
   ],
   "source": [
    "from pandas import DataFrame\n",
    "all_items = sample_data_collection.find().sort(\"id\")\n",
    "items_data_frame = DataFrame(all_items)\n",
    "print(items_data_frame)"
   ],
   "metadata": {
    "collapsed": false,
    "pycharm": {
     "name": "#%%\n"
    }
   }
  },
  {
   "cell_type": "markdown",
   "source": [
    "# Shutting down the MongoDB service\n",
    "`sudo systemctl stop mongod`"
   ],
   "metadata": {
    "collapsed": false,
    "pycharm": {
     "name": "#%% md\n"
    }
   }
  }
 ],
 "metadata": {
  "kernelspec": {
   "display_name": "Python 3",
   "language": "python",
   "name": "python3"
  },
  "language_info": {
   "codemirror_mode": {
    "name": "ipython",
    "version": 2
   },
   "file_extension": ".py",
   "mimetype": "text/x-python",
   "name": "python",
   "nbconvert_exporter": "python",
   "pygments_lexer": "ipython2",
   "version": "2.7.6"
  }
 },
 "nbformat": 4,
 "nbformat_minor": 0
}