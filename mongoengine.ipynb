{
 "cells": [
  {
   "cell_type": "markdown",
   "source": [
    "# Setup\n",
    "1. Connect to the database\n",
    "2. Declare classed for Candidate and Experience using mongoengine field types"
   ],
   "metadata": {
    "collapsed": false
   }
  },
  {
   "cell_type": "code",
   "execution_count": 27,
   "metadata": {
    "collapsed": true
   },
   "outputs": [],
   "source": [
    "import mongoengine\n",
    "import datetime\n",
    "\n",
    "mongoengine.connect('SampleDB')\n",
    "\n",
    "class Experience(mongoengine.EmbeddedDocument):\n",
    "    employer = mongoengine.StringField(required=True, max_length=100)\n",
    "    start_date = mongoengine.DateField()\n",
    "\n",
    "class Candidate(mongoengine.Document):\n",
    "    name = mongoengine.StringField(required=True, max_length=100)\n",
    "    application_date = mongoengine.DateField(required=True)\n",
    "    currently_employed = mongoengine.BooleanField(default=True)\n",
    "    prior_experience = mongoengine.ListField(mongoengine.EmbeddedDocumentField(Experience))\n",
    "\n"
   ]
  },
  {
   "cell_type": "markdown",
   "source": [
    "# Create a new candidate and save it to the database\n",
    "1. Create Candidate\n",
    "2. Add Experience objects to the Candidate\n",
    "3. save to the database"
   ],
   "metadata": {
    "collapsed": false
   }
  },
  {
   "cell_type": "code",
   "execution_count": 28,
   "outputs": [
    {
     "data": {
      "text/plain": "<Candidate: Candidate object>"
     },
     "execution_count": 28,
     "metadata": {},
     "output_type": "execute_result"
    }
   ],
   "source": [
    "\n",
    "\n",
    "newCandidate :Candidate = Candidate(name=\"Kai Wagner\", application_date=datetime.datetime.now)\n",
    "newCandidate.prior_experience = [Experience(employer=\"ABC co\"), Experience(employer=\"Watch inc\")]\n",
    "newCandidate.save()"
   ],
   "metadata": {
    "collapsed": false,
    "pycharm": {
     "name": "#%%\n"
    }
   }
  },
  {
   "cell_type": "markdown",
   "source": [
    "# Query the database\n",
    "Use a __ query operator to define search criteria.\n",
    "The documentation for the underscore operators can be found [here]: (http://docs.mongoengine.org/guide/querying.html)"
   ],
   "metadata": {
    "collapsed": false
   }
  },
  {
   "cell_type": "code",
   "execution_count": 19,
   "outputs": [
    {
     "name": "stdout",
     "output_type": "stream",
     "text": [
      "Willy Wonka\n",
      "Willy Wonka\n"
     ]
    }
   ],
   "source": [
    "found_candidates = Candidate.objects(name__contains='Wonka')\n",
    "c: Candidate\n",
    "for c in found_candidates:\n",
    "    print(f\"{c.name}\")"
   ],
   "metadata": {
    "collapsed": false,
    "pycharm": {
     "name": "#%%\n"
    }
   }
  },
  {
   "cell_type": "markdown",
   "source": [
    "## Using a complex query\n",
    "Searching by multiple criteria requires the Q class. In the example below, the query should find any records where\n",
    "currently_employed is True or the name starts with 'wil' .\n",
    "This example is based on documentation found here: http://docs.mongoengine.org/guide/querying.html#advanced-queries"
   ],
   "metadata": {
    "collapsed": false
   }
  },
  {
   "cell_type": "code",
   "execution_count": 30,
   "outputs": [
    {
     "name": "stdout",
     "output_type": "stream",
     "text": [
      "Willy Wonka\n",
      "Willy Wonka\n",
      "Kai Wagner\n"
     ]
    }
   ],
   "source": [
    "from mongoengine import Q\n",
    "\n",
    "found_candidates =Candidate.objects(Q(currently_employed=True) | Q(name__istartswith='wil'))\n",
    "c: Candidate\n",
    "for c in found_candidates:\n",
    "    print(f\"{c.name}\")"
   ],
   "metadata": {
    "collapsed": false,
    "pycharm": {
     "name": "#%%\n"
    }
   }
  }
 ],
 "metadata": {
  "kernelspec": {
   "display_name": "Python 3",
   "language": "python",
   "name": "python3"
  },
  "language_info": {
   "codemirror_mode": {
    "name": "ipython",
    "version": 2
   },
   "file_extension": ".py",
   "mimetype": "text/x-python",
   "name": "python",
   "nbconvert_exporter": "python",
   "pygments_lexer": "ipython2",
   "version": "2.7.6"
  }
 },
 "nbformat": 4,
 "nbformat_minor": 0
}