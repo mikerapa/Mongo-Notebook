{
 "cells": [
  {
   "cell_type": "markdown",
   "source": [],
   "metadata": {
    "collapsed": false
   }
  },
  {
   "cell_type": "markdown",
   "source": [
    "# Use dictionary data as a data source and pivot on it\n",
    "1. Create an array of dictionaries with sample data\n",
    "2. Add it to a DataFrame\n",
    "3. Pivot the data"
   ],
   "metadata": {
    "collapsed": false
   }
  },
  {
   "cell_type": "code",
   "execution_count": 20,
   "metadata": {
    "collapsed": true
   },
   "outputs": [
    {
     "name": "stdout",
     "output_type": "stream",
     "text": [
      "[{'id': 0, 'rVal': 38, 'type': 'A', 'location': 'Tunis'}, {'id': 1, 'rVal': 1, 'type': 'C', 'location': 'Osaka'}, {'id': 2, 'rVal': 86, 'type': 'C', 'location': 'Philadelphia'}, {'id': 3, 'rVal': 28, 'type': 'C', 'location': 'Busan'}, {'id': 4, 'rVal': 16, 'type': 'A', 'location': 'Nairobi'}, {'id': 5, 'rVal': 7, 'type': 'A', 'location': 'Tunis'}, {'id': 6, 'rVal': 91, 'type': 'B', 'location': 'Philadelphia'}, {'id': 7, 'rVal': 52, 'type': 'C', 'location': 'Osaka'}, {'id': 8, 'rVal': 36, 'type': 'B', 'location': 'Osaka'}, {'id': 9, 'rVal': 44, 'type': 'C', 'location': 'Osaka'}, {'id': 10, 'rVal': 62, 'type': 'B', 'location': 'Tunis'}, {'id': 11, 'rVal': 27, 'type': 'A', 'location': 'Philadelphia'}, {'id': 12, 'rVal': 84, 'type': 'B', 'location': 'Busan'}, {'id': 13, 'rVal': 39, 'type': 'B', 'location': 'Osaka'}, {'id': 14, 'rVal': 81, 'type': 'A', 'location': 'Nairobi'}, {'id': 15, 'rVal': 97, 'type': 'A', 'location': 'Nairobi'}, {'id': 16, 'rVal': 56, 'type': 'A', 'location': 'Busan'}, {'id': 17, 'rVal': 81, 'type': 'C', 'location': 'Busan'}, {'id': 18, 'rVal': 86, 'type': 'A', 'location': 'Busan'}, {'id': 19, 'rVal': 41, 'type': 'A', 'location': 'Philadelphia'}, {'id': 20, 'rVal': 19, 'type': 'C', 'location': 'Busan'}, {'id': 21, 'rVal': 1, 'type': 'A', 'location': 'Philadelphia'}, {'id': 22, 'rVal': 59, 'type': 'A', 'location': 'Osaka'}, {'id': 23, 'rVal': 74, 'type': 'C', 'location': 'Busan'}, {'id': 24, 'rVal': 45, 'type': 'C', 'location': 'Busan'}, {'id': 25, 'rVal': 48, 'type': 'C', 'location': 'Tunis'}, {'id': 26, 'rVal': 33, 'type': 'B', 'location': 'Tunis'}, {'id': 27, 'rVal': 92, 'type': 'B', 'location': 'Osaka'}, {'id': 28, 'rVal': 92, 'type': 'B', 'location': 'Tunis'}, {'id': 29, 'rVal': 16, 'type': 'A', 'location': 'Osaka'}, {'id': 30, 'rVal': 70, 'type': 'A', 'location': 'Philadelphia'}, {'id': 31, 'rVal': 14, 'type': 'C', 'location': 'Busan'}, {'id': 32, 'rVal': 22, 'type': 'C', 'location': 'Nairobi'}, {'id': 33, 'rVal': 79, 'type': 'C', 'location': 'Tunis'}, {'id': 34, 'rVal': 24, 'type': 'C', 'location': 'Nairobi'}, {'id': 35, 'rVal': 96, 'type': 'C', 'location': 'Nairobi'}, {'id': 36, 'rVal': 42, 'type': 'C', 'location': 'Tunis'}, {'id': 37, 'rVal': 13, 'type': 'B', 'location': 'Busan'}, {'id': 38, 'rVal': 39, 'type': 'C', 'location': 'Nairobi'}, {'id': 39, 'rVal': 83, 'type': 'C', 'location': 'Philadelphia'}, {'id': 40, 'rVal': 76, 'type': 'B', 'location': 'Osaka'}, {'id': 41, 'rVal': 90, 'type': 'C', 'location': 'Nairobi'}, {'id': 42, 'rVal': 14, 'type': 'A', 'location': 'Osaka'}, {'id': 43, 'rVal': 40, 'type': 'B', 'location': 'Busan'}, {'id': 44, 'rVal': 40, 'type': 'A', 'location': 'Busan'}, {'id': 45, 'rVal': 90, 'type': 'A', 'location': 'Osaka'}, {'id': 46, 'rVal': 99, 'type': 'B', 'location': 'Philadelphia'}, {'id': 47, 'rVal': 12, 'type': 'C', 'location': 'Busan'}, {'id': 48, 'rVal': 60, 'type': 'B', 'location': 'Philadelphia'}, {'id': 49, 'rVal': 58, 'type': 'B', 'location': 'Philadelphia'}, {'id': 50, 'rVal': 25, 'type': 'C', 'location': 'Philadelphia'}, {'id': 51, 'rVal': 17, 'type': 'B', 'location': 'Tunis'}, {'id': 52, 'rVal': 56, 'type': 'C', 'location': 'Nairobi'}, {'id': 53, 'rVal': 81, 'type': 'B', 'location': 'Philadelphia'}, {'id': 54, 'rVal': 14, 'type': 'C', 'location': 'Osaka'}, {'id': 55, 'rVal': 85, 'type': 'B', 'location': 'Nairobi'}, {'id': 56, 'rVal': 55, 'type': 'B', 'location': 'Busan'}, {'id': 57, 'rVal': 26, 'type': 'C', 'location': 'Philadelphia'}, {'id': 58, 'rVal': 7, 'type': 'A', 'location': 'Nairobi'}, {'id': 59, 'rVal': 13, 'type': 'C', 'location': 'Osaka'}, {'id': 60, 'rVal': 12, 'type': 'A', 'location': 'Tunis'}, {'id': 61, 'rVal': 40, 'type': 'C', 'location': 'Philadelphia'}, {'id': 62, 'rVal': 78, 'type': 'B', 'location': 'Osaka'}, {'id': 63, 'rVal': 46, 'type': 'B', 'location': 'Busan'}, {'id': 64, 'rVal': 27, 'type': 'A', 'location': 'Tunis'}, {'id': 65, 'rVal': 3, 'type': 'C', 'location': 'Busan'}, {'id': 66, 'rVal': 44, 'type': 'B', 'location': 'Nairobi'}, {'id': 67, 'rVal': 9, 'type': 'A', 'location': 'Busan'}, {'id': 68, 'rVal': 97, 'type': 'B', 'location': 'Tunis'}, {'id': 69, 'rVal': 36, 'type': 'C', 'location': 'Busan'}, {'id': 70, 'rVal': 15, 'type': 'C', 'location': 'Busan'}, {'id': 71, 'rVal': 39, 'type': 'C', 'location': 'Nairobi'}, {'id': 72, 'rVal': 41, 'type': 'C', 'location': 'Tunis'}, {'id': 73, 'rVal': 96, 'type': 'B', 'location': 'Tunis'}, {'id': 74, 'rVal': 63, 'type': 'A', 'location': 'Tunis'}, {'id': 75, 'rVal': 20, 'type': 'C', 'location': 'Tunis'}, {'id': 76, 'rVal': 75, 'type': 'B', 'location': 'Philadelphia'}, {'id': 77, 'rVal': 10, 'type': 'B', 'location': 'Nairobi'}, {'id': 78, 'rVal': 58, 'type': 'C', 'location': 'Philadelphia'}, {'id': 79, 'rVal': 35, 'type': 'A', 'location': 'Tunis'}, {'id': 80, 'rVal': 23, 'type': 'B', 'location': 'Tunis'}, {'id': 81, 'rVal': 40, 'type': 'A', 'location': 'Nairobi'}, {'id': 82, 'rVal': 28, 'type': 'C', 'location': 'Busan'}, {'id': 83, 'rVal': 93, 'type': 'A', 'location': 'Busan'}, {'id': 84, 'rVal': 95, 'type': 'C', 'location': 'Nairobi'}, {'id': 85, 'rVal': 55, 'type': 'A', 'location': 'Busan'}, {'id': 86, 'rVal': 91, 'type': 'B', 'location': 'Nairobi'}, {'id': 87, 'rVal': 27, 'type': 'B', 'location': 'Philadelphia'}, {'id': 88, 'rVal': 84, 'type': 'C', 'location': 'Osaka'}, {'id': 89, 'rVal': 34, 'type': 'C', 'location': 'Osaka'}, {'id': 90, 'rVal': 1, 'type': 'C', 'location': 'Busan'}, {'id': 91, 'rVal': 5, 'type': 'C', 'location': 'Osaka'}, {'id': 92, 'rVal': 72, 'type': 'A', 'location': 'Busan'}, {'id': 93, 'rVal': 75, 'type': 'A', 'location': 'Nairobi'}, {'id': 94, 'rVal': 31, 'type': 'B', 'location': 'Busan'}, {'id': 95, 'rVal': 8, 'type': 'C', 'location': 'Philadelphia'}, {'id': 96, 'rVal': 86, 'type': 'C', 'location': 'Tunis'}, {'id': 97, 'rVal': 7, 'type': 'B', 'location': 'Tunis'}, {'id': 98, 'rVal': 49, 'type': 'A', 'location': 'Tunis'}, {'id': 99, 'rVal': 64, 'type': 'B', 'location': 'Busan'}]\n"
     ]
    }
   ],
   "source": [
    "import random\n",
    "# create some sample data\n",
    "import pandas as pd\n",
    "\n",
    "data_set_1 = [{\"id\": x, \"rVal\": random.randint(1,99),  \"type\": random.choice([\"A\", \"B\", \"C\"]), \"location\": random.choice([\"Osaka\", \"Philadelphia\", \"Tunis\", \"Busan\", \"Nairobi\"]) }  for x in range(100)]\n",
    "print(data_set_1)"
   ]
  },
  {
   "cell_type": "markdown",
   "source": [
    "## Create a data frame and print it"
   ],
   "metadata": {
    "collapsed": false
   }
  },
  {
   "cell_type": "code",
   "execution_count": 21,
   "outputs": [
    {
     "name": "stdout",
     "output_type": "stream",
     "text": [
      "    id  rVal type      location\n",
      "0    0    38    A         Tunis\n",
      "1    1     1    C         Osaka\n",
      "2    2    86    C  Philadelphia\n",
      "3    3    28    C         Busan\n",
      "4    4    16    A       Nairobi\n",
      "..  ..   ...  ...           ...\n",
      "95  95     8    C  Philadelphia\n",
      "96  96    86    C         Tunis\n",
      "97  97     7    B         Tunis\n",
      "98  98    49    A         Tunis\n",
      "99  99    64    B         Busan\n",
      "\n",
      "[100 rows x 4 columns]\n"
     ]
    }
   ],
   "source": [
    "from pandas import DataFrame\n",
    "\n",
    "data_frame_1 = pd.DataFrame(data_set_1) #, index=[\"id\", \"location\", \"rVal\"])\n",
    "print(data_frame_1)"
   ],
   "metadata": {
    "collapsed": false,
    "pycharm": {
     "name": "#%%\n"
    }
   }
  },
  {
   "cell_type": "markdown",
   "source": [
    "## Pivot the data\n"
   ],
   "metadata": {
    "collapsed": false
   }
  },
  {
   "cell_type": "code",
   "execution_count": 22,
   "outputs": [
    {
     "data": {
      "text/plain": "location      Busan    Nairobi   Osaka  Philadelphia      Tunis\ntype                                                           \nA         58.714286  52.666667  44.750     34.750000  33.000000\nB         47.571429  57.500000  64.200     70.142857  53.375000\nC         29.666667  57.625000  30.875     46.571429  52.666667",
      "text/html": "<div>\n<style scoped>\n    .dataframe tbody tr th:only-of-type {\n        vertical-align: middle;\n    }\n\n    .dataframe tbody tr th {\n        vertical-align: top;\n    }\n\n    .dataframe thead th {\n        text-align: right;\n    }\n</style>\n<table border=\"1\" class=\"dataframe\">\n  <thead>\n    <tr style=\"text-align: right;\">\n      <th>location</th>\n      <th>Busan</th>\n      <th>Nairobi</th>\n      <th>Osaka</th>\n      <th>Philadelphia</th>\n      <th>Tunis</th>\n    </tr>\n    <tr>\n      <th>type</th>\n      <th></th>\n      <th></th>\n      <th></th>\n      <th></th>\n      <th></th>\n    </tr>\n  </thead>\n  <tbody>\n    <tr>\n      <th>A</th>\n      <td>58.714286</td>\n      <td>52.666667</td>\n      <td>44.750</td>\n      <td>34.750000</td>\n      <td>33.000000</td>\n    </tr>\n    <tr>\n      <th>B</th>\n      <td>47.571429</td>\n      <td>57.500000</td>\n      <td>64.200</td>\n      <td>70.142857</td>\n      <td>53.375000</td>\n    </tr>\n    <tr>\n      <th>C</th>\n      <td>29.666667</td>\n      <td>57.625000</td>\n      <td>30.875</td>\n      <td>46.571429</td>\n      <td>52.666667</td>\n    </tr>\n  </tbody>\n</table>\n</div>"
     },
     "execution_count": 22,
     "metadata": {},
     "output_type": "execute_result"
    }
   ],
   "source": [
    "data_frame_1.pivot_table(index=\"type\", columns=\"location\", values=\"rVal\")"
   ],
   "metadata": {
    "collapsed": false,
    "pycharm": {
     "name": "#%%\n"
    }
   }
  },
  {
   "cell_type": "markdown",
   "source": [
    "## Create a DataFrame based on series of data"
   ],
   "metadata": {
    "collapsed": false
   }
  },
  {
   "cell_type": "code",
   "execution_count": 23,
   "outputs": [
    {
     "name": "stdout",
     "output_type": "stream",
     "text": [
      "     location type  rVal  id\n",
      "0   Rotterdam    A    97   0\n",
      "1       Miami    B    76   1\n",
      "2       Miami    B     9   2\n",
      "3    Victoria    A    44   3\n",
      "4    Victoria    C    81   4\n",
      "5    Tel Aviv    A    76   5\n",
      "6       Miami    A     7   6\n",
      "7    Tel Aviv    C    66   7\n",
      "8   Rotterdam    A    70   8\n",
      "9    Victoria    A    65   9\n",
      "10  Rotterdam    B    60  10\n",
      "11      Miami    B    25  11\n",
      "12      Miami    A    58  12\n",
      "13   Tel Aviv    C    44  13\n",
      "14   Victoria    A    76  14\n",
      "15  Rotterdam    C    97  15\n",
      "16   Victoria    A    38  16\n",
      "17   Tel Aviv    B    62  17\n",
      "18  Rotterdam    B    34  18\n",
      "19   Tel Aviv    B    74  19\n"
     ]
    }
   ],
   "source": [
    "RECORD_LIMIT : int = 20\n",
    "\n",
    "data_set_2 = {\n",
    "    \"location\": [random.choice([\"Victoria\", \"Miami\", \"Tel Aviv\", \"Rotterdam\"]) for i in range(RECORD_LIMIT)],\n",
    "    \"type\": [random.choice([\"A\", \"B\", \"C\"]) for i in range(RECORD_LIMIT)],\n",
    "    \"rVal\" : [random.randint(0,99) for i in range(RECORD_LIMIT)],\n",
    "    \"id\" : [i for i in range(RECORD_LIMIT)]\n",
    "\n",
    "}\n",
    "data_frame_2 = DataFrame(data_set_2)\n",
    "print(data_frame_2)"
   ],
   "metadata": {
    "collapsed": false,
    "pycharm": {
     "name": "#%%\n"
    }
   }
  },
  {
   "cell_type": "markdown",
   "source": [
    "# Filter the DataFrame\n",
    "Use the query method to filter a DataFrame\n"
   ],
   "metadata": {
    "collapsed": false
   }
  },
  {
   "cell_type": "code",
   "execution_count": 24,
   "outputs": [
    {
     "data": {
      "text/plain": "     location type  rVal  id\n0   Rotterdam    A    97   0\n3    Victoria    A    44   3\n5    Tel Aviv    A    76   5\n6       Miami    A     7   6\n8   Rotterdam    A    70   8\n9    Victoria    A    65   9\n12      Miami    A    58  12\n14   Victoria    A    76  14\n16   Victoria    A    38  16",
      "text/html": "<div>\n<style scoped>\n    .dataframe tbody tr th:only-of-type {\n        vertical-align: middle;\n    }\n\n    .dataframe tbody tr th {\n        vertical-align: top;\n    }\n\n    .dataframe thead th {\n        text-align: right;\n    }\n</style>\n<table border=\"1\" class=\"dataframe\">\n  <thead>\n    <tr style=\"text-align: right;\">\n      <th></th>\n      <th>location</th>\n      <th>type</th>\n      <th>rVal</th>\n      <th>id</th>\n    </tr>\n  </thead>\n  <tbody>\n    <tr>\n      <th>0</th>\n      <td>Rotterdam</td>\n      <td>A</td>\n      <td>97</td>\n      <td>0</td>\n    </tr>\n    <tr>\n      <th>3</th>\n      <td>Victoria</td>\n      <td>A</td>\n      <td>44</td>\n      <td>3</td>\n    </tr>\n    <tr>\n      <th>5</th>\n      <td>Tel Aviv</td>\n      <td>A</td>\n      <td>76</td>\n      <td>5</td>\n    </tr>\n    <tr>\n      <th>6</th>\n      <td>Miami</td>\n      <td>A</td>\n      <td>7</td>\n      <td>6</td>\n    </tr>\n    <tr>\n      <th>8</th>\n      <td>Rotterdam</td>\n      <td>A</td>\n      <td>70</td>\n      <td>8</td>\n    </tr>\n    <tr>\n      <th>9</th>\n      <td>Victoria</td>\n      <td>A</td>\n      <td>65</td>\n      <td>9</td>\n    </tr>\n    <tr>\n      <th>12</th>\n      <td>Miami</td>\n      <td>A</td>\n      <td>58</td>\n      <td>12</td>\n    </tr>\n    <tr>\n      <th>14</th>\n      <td>Victoria</td>\n      <td>A</td>\n      <td>76</td>\n      <td>14</td>\n    </tr>\n    <tr>\n      <th>16</th>\n      <td>Victoria</td>\n      <td>A</td>\n      <td>38</td>\n      <td>16</td>\n    </tr>\n  </tbody>\n</table>\n</div>"
     },
     "execution_count": 24,
     "metadata": {},
     "output_type": "execute_result"
    }
   ],
   "source": [
    "data_frame_2.query('type ==\"A\"')\n"
   ],
   "metadata": {
    "collapsed": false,
    "pycharm": {
     "name": "#%%\n"
    }
   }
  },
  {
   "cell_type": "markdown",
   "source": [
    "# Pivot the DataFrame\n",
    " Make the locations into rows and user the type values as columns"
   ],
   "metadata": {
    "collapsed": false
   }
  },
  {
   "cell_type": "code",
   "execution_count": 11,
   "outputs": [
    {
     "data": {
      "text/plain": "type               A      B          C\nlocation                              \nMiami      27.000000  65.00        NaN\nRotterdam  65.500000  31.25  36.666667\nTel Aviv   74.333333    NaN  81.000000\nVictoria         NaN    NaN  71.000000",
      "text/html": "<div>\n<style scoped>\n    .dataframe tbody tr th:only-of-type {\n        vertical-align: middle;\n    }\n\n    .dataframe tbody tr th {\n        vertical-align: top;\n    }\n\n    .dataframe thead th {\n        text-align: right;\n    }\n</style>\n<table border=\"1\" class=\"dataframe\">\n  <thead>\n    <tr style=\"text-align: right;\">\n      <th>type</th>\n      <th>A</th>\n      <th>B</th>\n      <th>C</th>\n    </tr>\n    <tr>\n      <th>location</th>\n      <th></th>\n      <th></th>\n      <th></th>\n    </tr>\n  </thead>\n  <tbody>\n    <tr>\n      <th>Miami</th>\n      <td>27.000000</td>\n      <td>65.00</td>\n      <td>NaN</td>\n    </tr>\n    <tr>\n      <th>Rotterdam</th>\n      <td>65.500000</td>\n      <td>31.25</td>\n      <td>36.666667</td>\n    </tr>\n    <tr>\n      <th>Tel Aviv</th>\n      <td>74.333333</td>\n      <td>NaN</td>\n      <td>81.000000</td>\n    </tr>\n    <tr>\n      <th>Victoria</th>\n      <td>NaN</td>\n      <td>NaN</td>\n      <td>71.000000</td>\n    </tr>\n  </tbody>\n</table>\n</div>"
     },
     "execution_count": 11,
     "metadata": {},
     "output_type": "execute_result"
    }
   ],
   "source": [
    "pd.pivot_table(data_frame_2, values=\"rVal\", index=[\"location\"],  columns=\"type\")"
   ],
   "metadata": {
    "collapsed": false,
    "pycharm": {
     "name": "#%%\n"
    }
   }
  }
 ],
 "metadata": {
  "kernelspec": {
   "display_name": "Python 3",
   "language": "python",
   "name": "python3"
  },
  "language_info": {
   "codemirror_mode": {
    "name": "ipython",
    "version": 2
   },
   "file_extension": ".py",
   "mimetype": "text/x-python",
   "name": "python",
   "nbconvert_exporter": "python",
   "pygments_lexer": "ipython2",
   "version": "2.7.6"
  }
 },
 "nbformat": 4,
 "nbformat_minor": 0
}