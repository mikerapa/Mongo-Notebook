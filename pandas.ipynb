{
 "cells": [
  {
   "cell_type": "markdown",
   "source": [],
   "metadata": {
    "collapsed": false
   }
  },
  {
   "cell_type": "markdown",
   "source": [
    "# Use dictionary data as a data source and pivot on it\n",
    "1. Create an array of dictionaries with sample data\n",
    "2. Add it to a DataFrame\n",
    "3. Pivot the data"
   ],
   "metadata": {
    "collapsed": false
   }
  },
  {
   "cell_type": "code",
   "execution_count": 2,
   "metadata": {
    "collapsed": true
   },
   "outputs": [
    {
     "name": "stdout",
     "output_type": "stream",
     "text": [
      "[{'id': 0, 'rVal': 12, 'type': 'A', 'location': 'Nairobi'}, {'id': 1, 'rVal': 62, 'type': 'B', 'location': 'Busan'}, {'id': 2, 'rVal': 91, 'type': 'A', 'location': 'Osaka'}, {'id': 3, 'rVal': 49, 'type': 'C', 'location': 'Osaka'}, {'id': 4, 'rVal': 74, 'type': 'C', 'location': 'Nairobi'}, {'id': 5, 'rVal': 31, 'type': 'A', 'location': 'Philadelphia'}, {'id': 6, 'rVal': 75, 'type': 'A', 'location': 'Philadelphia'}, {'id': 7, 'rVal': 98, 'type': 'A', 'location': 'Tunis'}, {'id': 8, 'rVal': 85, 'type': 'B', 'location': 'Tunis'}, {'id': 9, 'rVal': 42, 'type': 'C', 'location': 'Tunis'}, {'id': 10, 'rVal': 37, 'type': 'C', 'location': 'Busan'}, {'id': 11, 'rVal': 60, 'type': 'C', 'location': 'Tunis'}, {'id': 12, 'rVal': 84, 'type': 'A', 'location': 'Busan'}, {'id': 13, 'rVal': 74, 'type': 'C', 'location': 'Tunis'}, {'id': 14, 'rVal': 68, 'type': 'B', 'location': 'Osaka'}, {'id': 15, 'rVal': 25, 'type': 'A', 'location': 'Tunis'}, {'id': 16, 'rVal': 72, 'type': 'B', 'location': 'Philadelphia'}, {'id': 17, 'rVal': 47, 'type': 'B', 'location': 'Tunis'}, {'id': 18, 'rVal': 6, 'type': 'B', 'location': 'Tunis'}, {'id': 19, 'rVal': 76, 'type': 'A', 'location': 'Nairobi'}, {'id': 20, 'rVal': 82, 'type': 'A', 'location': 'Nairobi'}, {'id': 21, 'rVal': 14, 'type': 'C', 'location': 'Philadelphia'}, {'id': 22, 'rVal': 44, 'type': 'B', 'location': 'Philadelphia'}, {'id': 23, 'rVal': 12, 'type': 'A', 'location': 'Busan'}, {'id': 24, 'rVal': 98, 'type': 'C', 'location': 'Philadelphia'}, {'id': 25, 'rVal': 19, 'type': 'C', 'location': 'Busan'}, {'id': 26, 'rVal': 80, 'type': 'C', 'location': 'Tunis'}, {'id': 27, 'rVal': 22, 'type': 'B', 'location': 'Osaka'}, {'id': 28, 'rVal': 87, 'type': 'A', 'location': 'Tunis'}, {'id': 29, 'rVal': 1, 'type': 'B', 'location': 'Osaka'}, {'id': 30, 'rVal': 52, 'type': 'B', 'location': 'Nairobi'}, {'id': 31, 'rVal': 69, 'type': 'C', 'location': 'Philadelphia'}, {'id': 32, 'rVal': 32, 'type': 'C', 'location': 'Philadelphia'}, {'id': 33, 'rVal': 52, 'type': 'A', 'location': 'Nairobi'}, {'id': 34, 'rVal': 37, 'type': 'A', 'location': 'Nairobi'}, {'id': 35, 'rVal': 27, 'type': 'A', 'location': 'Philadelphia'}, {'id': 36, 'rVal': 58, 'type': 'B', 'location': 'Busan'}, {'id': 37, 'rVal': 83, 'type': 'C', 'location': 'Tunis'}, {'id': 38, 'rVal': 42, 'type': 'A', 'location': 'Tunis'}, {'id': 39, 'rVal': 42, 'type': 'B', 'location': 'Philadelphia'}, {'id': 40, 'rVal': 2, 'type': 'B', 'location': 'Nairobi'}, {'id': 41, 'rVal': 4, 'type': 'C', 'location': 'Tunis'}, {'id': 42, 'rVal': 37, 'type': 'A', 'location': 'Busan'}, {'id': 43, 'rVal': 3, 'type': 'B', 'location': 'Nairobi'}, {'id': 44, 'rVal': 86, 'type': 'B', 'location': 'Tunis'}, {'id': 45, 'rVal': 85, 'type': 'B', 'location': 'Osaka'}, {'id': 46, 'rVal': 89, 'type': 'C', 'location': 'Nairobi'}, {'id': 47, 'rVal': 50, 'type': 'A', 'location': 'Tunis'}, {'id': 48, 'rVal': 27, 'type': 'C', 'location': 'Busan'}, {'id': 49, 'rVal': 22, 'type': 'C', 'location': 'Osaka'}, {'id': 50, 'rVal': 64, 'type': 'B', 'location': 'Tunis'}, {'id': 51, 'rVal': 39, 'type': 'A', 'location': 'Philadelphia'}, {'id': 52, 'rVal': 27, 'type': 'A', 'location': 'Nairobi'}, {'id': 53, 'rVal': 48, 'type': 'C', 'location': 'Philadelphia'}, {'id': 54, 'rVal': 42, 'type': 'A', 'location': 'Nairobi'}, {'id': 55, 'rVal': 66, 'type': 'A', 'location': 'Osaka'}, {'id': 56, 'rVal': 82, 'type': 'A', 'location': 'Busan'}, {'id': 57, 'rVal': 44, 'type': 'B', 'location': 'Tunis'}, {'id': 58, 'rVal': 2, 'type': 'C', 'location': 'Busan'}, {'id': 59, 'rVal': 19, 'type': 'C', 'location': 'Tunis'}, {'id': 60, 'rVal': 74, 'type': 'C', 'location': 'Tunis'}, {'id': 61, 'rVal': 12, 'type': 'C', 'location': 'Nairobi'}, {'id': 62, 'rVal': 45, 'type': 'B', 'location': 'Osaka'}, {'id': 63, 'rVal': 44, 'type': 'A', 'location': 'Tunis'}, {'id': 64, 'rVal': 71, 'type': 'A', 'location': 'Tunis'}, {'id': 65, 'rVal': 58, 'type': 'A', 'location': 'Osaka'}, {'id': 66, 'rVal': 62, 'type': 'B', 'location': 'Osaka'}, {'id': 67, 'rVal': 36, 'type': 'C', 'location': 'Osaka'}, {'id': 68, 'rVal': 88, 'type': 'C', 'location': 'Busan'}, {'id': 69, 'rVal': 15, 'type': 'B', 'location': 'Busan'}, {'id': 70, 'rVal': 35, 'type': 'B', 'location': 'Busan'}, {'id': 71, 'rVal': 4, 'type': 'C', 'location': 'Philadelphia'}, {'id': 72, 'rVal': 36, 'type': 'C', 'location': 'Busan'}, {'id': 73, 'rVal': 34, 'type': 'A', 'location': 'Nairobi'}, {'id': 74, 'rVal': 77, 'type': 'B', 'location': 'Busan'}, {'id': 75, 'rVal': 10, 'type': 'A', 'location': 'Philadelphia'}, {'id': 76, 'rVal': 35, 'type': 'A', 'location': 'Tunis'}, {'id': 77, 'rVal': 51, 'type': 'C', 'location': 'Osaka'}, {'id': 78, 'rVal': 29, 'type': 'B', 'location': 'Tunis'}, {'id': 79, 'rVal': 97, 'type': 'B', 'location': 'Osaka'}, {'id': 80, 'rVal': 34, 'type': 'A', 'location': 'Busan'}, {'id': 81, 'rVal': 9, 'type': 'A', 'location': 'Busan'}, {'id': 82, 'rVal': 78, 'type': 'B', 'location': 'Philadelphia'}, {'id': 83, 'rVal': 73, 'type': 'B', 'location': 'Philadelphia'}, {'id': 84, 'rVal': 58, 'type': 'C', 'location': 'Philadelphia'}, {'id': 85, 'rVal': 38, 'type': 'A', 'location': 'Tunis'}, {'id': 86, 'rVal': 90, 'type': 'C', 'location': 'Tunis'}, {'id': 87, 'rVal': 30, 'type': 'B', 'location': 'Osaka'}, {'id': 88, 'rVal': 37, 'type': 'B', 'location': 'Philadelphia'}, {'id': 89, 'rVal': 43, 'type': 'A', 'location': 'Philadelphia'}, {'id': 90, 'rVal': 33, 'type': 'C', 'location': 'Nairobi'}, {'id': 91, 'rVal': 30, 'type': 'C', 'location': 'Philadelphia'}, {'id': 92, 'rVal': 1, 'type': 'B', 'location': 'Nairobi'}, {'id': 93, 'rVal': 44, 'type': 'C', 'location': 'Tunis'}, {'id': 94, 'rVal': 62, 'type': 'C', 'location': 'Osaka'}, {'id': 95, 'rVal': 42, 'type': 'A', 'location': 'Busan'}, {'id': 96, 'rVal': 28, 'type': 'A', 'location': 'Tunis'}, {'id': 97, 'rVal': 69, 'type': 'A', 'location': 'Osaka'}, {'id': 98, 'rVal': 8, 'type': 'A', 'location': 'Tunis'}, {'id': 99, 'rVal': 77, 'type': 'B', 'location': 'Busan'}]\n"
     ]
    }
   ],
   "source": [
    "import random\n",
    "# create some sample data\n",
    "import pandas\n",
    "import pandas as pd\n",
    "\n",
    "data_set_1 = [{\"id\": x, \"rVal\": random.randint(1,99),  \"type\": random.choice([\"A\", \"B\", \"C\"]), \"location\": random.choice([\"Osaka\", \"Philadelphia\", \"Tunis\", \"Busan\", \"Nairobi\"]) }  for x in range(100)]\n",
    "print(data_set_1)"
   ]
  },
  {
   "cell_type": "markdown",
   "source": [
    "## Create a data frame and print it"
   ],
   "metadata": {
    "collapsed": false
   }
  },
  {
   "cell_type": "code",
   "execution_count": 3,
   "outputs": [
    {
     "name": "stdout",
     "output_type": "stream",
     "text": [
      "    id  rVal type location\n",
      "0    0    93    C    Osaka\n",
      "1    1    35    B  Nairobi\n",
      "2    2     4    B    Tunis\n",
      "3    3    91    C    Osaka\n",
      "4    4    67    A    Osaka\n",
      "..  ..   ...  ...      ...\n",
      "95  95    67    A  Nairobi\n",
      "96  96    64    C    Busan\n",
      "97  97    74    B  Nairobi\n",
      "98  98    87    A    Osaka\n",
      "99  99    84    B    Osaka\n",
      "\n",
      "[100 rows x 4 columns]\n"
     ]
    }
   ],
   "source": [
    "from pandas import DataFrame\n",
    "\n",
    "data_frame_1 = pd.DataFrame(data_set_1) #, index=[\"id\", \"location\", \"rVal\"])\n",
    "print(data_frame_1)"
   ],
   "metadata": {
    "collapsed": false,
    "pycharm": {
     "name": "#%%\n"
    }
   }
  },
  {
   "cell_type": "markdown",
   "source": [
    "## Pivot the data\n"
   ],
   "metadata": {
    "collapsed": false
   }
  },
  {
   "cell_type": "code",
   "execution_count": 4,
   "outputs": [
    {
     "data": {
      "text/plain": "location      Busan    Nairobi      Osaka  Philadelphia      Tunis\ntype                                                              \nA         45.000000  43.000000  67.000000     58.833333  56.400000\nB         34.857143  59.333333  48.857143     54.875000  49.500000\nC         31.500000  45.166667  52.250000     50.000000  44.285714",
      "text/html": "<div>\n<style scoped>\n    .dataframe tbody tr th:only-of-type {\n        vertical-align: middle;\n    }\n\n    .dataframe tbody tr th {\n        vertical-align: top;\n    }\n\n    .dataframe thead th {\n        text-align: right;\n    }\n</style>\n<table border=\"1\" class=\"dataframe\">\n  <thead>\n    <tr style=\"text-align: right;\">\n      <th>location</th>\n      <th>Busan</th>\n      <th>Nairobi</th>\n      <th>Osaka</th>\n      <th>Philadelphia</th>\n      <th>Tunis</th>\n    </tr>\n    <tr>\n      <th>type</th>\n      <th></th>\n      <th></th>\n      <th></th>\n      <th></th>\n      <th></th>\n    </tr>\n  </thead>\n  <tbody>\n    <tr>\n      <th>A</th>\n      <td>45.000000</td>\n      <td>43.000000</td>\n      <td>67.000000</td>\n      <td>58.833333</td>\n      <td>56.400000</td>\n    </tr>\n    <tr>\n      <th>B</th>\n      <td>34.857143</td>\n      <td>59.333333</td>\n      <td>48.857143</td>\n      <td>54.875000</td>\n      <td>49.500000</td>\n    </tr>\n    <tr>\n      <th>C</th>\n      <td>31.500000</td>\n      <td>45.166667</td>\n      <td>52.250000</td>\n      <td>50.000000</td>\n      <td>44.285714</td>\n    </tr>\n  </tbody>\n</table>\n</div>"
     },
     "execution_count": 4,
     "metadata": {},
     "output_type": "execute_result"
    }
   ],
   "source": [
    "data_frame_1.pivot_table(index=\"type\", columns=\"location\", values=\"rVal\")"
   ],
   "metadata": {
    "collapsed": false,
    "pycharm": {
     "name": "#%%\n"
    }
   }
  },
  {
   "cell_type": "markdown",
   "source": [
    "## Create a DataFrame based on series of data"
   ],
   "metadata": {
    "collapsed": false
   }
  },
  {
   "cell_type": "code",
   "execution_count": 5,
   "outputs": [
    {
     "name": "stdout",
     "output_type": "stream",
     "text": [
      "     location type  rVal  id\n",
      "0       Miami    B    86   0\n",
      "1       Miami    C    49   1\n",
      "2       Miami    A    46   2\n",
      "3    Victoria    B    15   3\n",
      "4   Rotterdam    B     4   4\n",
      "5    Tel Aviv    B    61   5\n",
      "6    Victoria    A    77   6\n",
      "7    Victoria    A    59   7\n",
      "8    Tel Aviv    A    75   8\n",
      "9    Victoria    A    50   9\n",
      "10  Rotterdam    B    35  10\n",
      "11  Rotterdam    B    30  11\n",
      "12   Victoria    B    35  12\n",
      "13  Rotterdam    A    55  13\n",
      "14  Rotterdam    A    36  14\n",
      "15   Tel Aviv    B    83  15\n",
      "16   Tel Aviv    B    33  16\n",
      "17      Miami    A    11  17\n",
      "18   Tel Aviv    C    92  18\n",
      "19   Victoria    A    67  19\n"
     ]
    }
   ],
   "source": [
    "RECORD_LIMIT : int = 20\n",
    "\n",
    "data_set_2 = {\n",
    "    \"location\": [random.choice([\"Victoria\", \"Miami\", \"Tel Aviv\", \"Rotterdam\"]) for i in range(RECORD_LIMIT)],\n",
    "    \"type\": [random.choice([\"A\", \"B\", \"C\"]) for i in range(RECORD_LIMIT)],\n",
    "    \"rVal\" : [random.randint(0,99) for i in range(RECORD_LIMIT)],\n",
    "    \"id\" : [i for i in range(RECORD_LIMIT)]\n",
    "\n",
    "}\n",
    "data_frame_2 = DataFrame(data_set_2)\n",
    "print(data_frame_2)"
   ],
   "metadata": {
    "collapsed": false,
    "pycharm": {
     "name": "#%%\n"
    }
   }
  },
  {
   "cell_type": "markdown",
   "source": [
    "# Filter the DataFrame\n",
    "Use the query method to filter a DataFrame\n"
   ],
   "metadata": {
    "collapsed": false
   }
  },
  {
   "cell_type": "code",
   "execution_count": 6,
   "outputs": [
    {
     "data": {
      "text/plain": "     location type  rVal  id\n2       Miami    A    46   2\n6    Victoria    A    77   6\n7    Victoria    A    59   7\n8    Tel Aviv    A    75   8\n9    Victoria    A    50   9\n13  Rotterdam    A    55  13\n14  Rotterdam    A    36  14\n17      Miami    A    11  17\n19   Victoria    A    67  19",
      "text/html": "<div>\n<style scoped>\n    .dataframe tbody tr th:only-of-type {\n        vertical-align: middle;\n    }\n\n    .dataframe tbody tr th {\n        vertical-align: top;\n    }\n\n    .dataframe thead th {\n        text-align: right;\n    }\n</style>\n<table border=\"1\" class=\"dataframe\">\n  <thead>\n    <tr style=\"text-align: right;\">\n      <th></th>\n      <th>location</th>\n      <th>type</th>\n      <th>rVal</th>\n      <th>id</th>\n    </tr>\n  </thead>\n  <tbody>\n    <tr>\n      <th>2</th>\n      <td>Miami</td>\n      <td>A</td>\n      <td>46</td>\n      <td>2</td>\n    </tr>\n    <tr>\n      <th>6</th>\n      <td>Victoria</td>\n      <td>A</td>\n      <td>77</td>\n      <td>6</td>\n    </tr>\n    <tr>\n      <th>7</th>\n      <td>Victoria</td>\n      <td>A</td>\n      <td>59</td>\n      <td>7</td>\n    </tr>\n    <tr>\n      <th>8</th>\n      <td>Tel Aviv</td>\n      <td>A</td>\n      <td>75</td>\n      <td>8</td>\n    </tr>\n    <tr>\n      <th>9</th>\n      <td>Victoria</td>\n      <td>A</td>\n      <td>50</td>\n      <td>9</td>\n    </tr>\n    <tr>\n      <th>13</th>\n      <td>Rotterdam</td>\n      <td>A</td>\n      <td>55</td>\n      <td>13</td>\n    </tr>\n    <tr>\n      <th>14</th>\n      <td>Rotterdam</td>\n      <td>A</td>\n      <td>36</td>\n      <td>14</td>\n    </tr>\n    <tr>\n      <th>17</th>\n      <td>Miami</td>\n      <td>A</td>\n      <td>11</td>\n      <td>17</td>\n    </tr>\n    <tr>\n      <th>19</th>\n      <td>Victoria</td>\n      <td>A</td>\n      <td>67</td>\n      <td>19</td>\n    </tr>\n  </tbody>\n</table>\n</div>"
     },
     "execution_count": 6,
     "metadata": {},
     "output_type": "execute_result"
    }
   ],
   "source": [
    "data_frame_2.query('type ==\"A\"')\n"
   ],
   "metadata": {
    "collapsed": false,
    "pycharm": {
     "name": "#%%\n"
    }
   }
  },
  {
   "cell_type": "markdown",
   "source": [
    "## filter the frame by a list\n"
   ],
   "metadata": {
    "collapsed": false
   }
  },
  {
   "cell_type": "code",
   "execution_count": 9,
   "outputs": [
    {
     "data": {
      "text/plain": "   id  location\n2   2     Miami\n5   5  Tel Aviv\n6   6  Victoria",
      "text/html": "<div>\n<style scoped>\n    .dataframe tbody tr th:only-of-type {\n        vertical-align: middle;\n    }\n\n    .dataframe tbody tr th {\n        vertical-align: top;\n    }\n\n    .dataframe thead th {\n        text-align: right;\n    }\n</style>\n<table border=\"1\" class=\"dataframe\">\n  <thead>\n    <tr style=\"text-align: right;\">\n      <th></th>\n      <th>id</th>\n      <th>location</th>\n    </tr>\n  </thead>\n  <tbody>\n    <tr>\n      <th>2</th>\n      <td>2</td>\n      <td>Miami</td>\n    </tr>\n    <tr>\n      <th>5</th>\n      <td>5</td>\n      <td>Tel Aviv</td>\n    </tr>\n    <tr>\n      <th>6</th>\n      <td>6</td>\n      <td>Victoria</td>\n    </tr>\n  </tbody>\n</table>\n</div>"
     },
     "execution_count": 9,
     "metadata": {},
     "output_type": "execute_result"
    }
   ],
   "source": [
    "ids = [2,5,6]\n",
    "data_frame_2[[\"id\", \"location\"]].query('id.isin(@ids)')"
   ],
   "metadata": {
    "collapsed": false,
    "pycharm": {
     "name": "#%%\n"
    }
   }
  },
  {
   "cell_type": "markdown",
   "source": [
    "# Another filtering example\n",
    "When referencing a column name which contains a space, use backticks around the column name."
   ],
   "metadata": {
    "collapsed": false
   }
  },
  {
   "cell_type": "code",
   "execution_count": 11,
   "outputs": [
    {
     "data": {
      "text/plain": "  first name last name\n3       Jose  Thompson\n8       Jose    Mwanga",
      "text/html": "<div>\n<style scoped>\n    .dataframe tbody tr th:only-of-type {\n        vertical-align: middle;\n    }\n\n    .dataframe tbody tr th {\n        vertical-align: top;\n    }\n\n    .dataframe thead th {\n        text-align: right;\n    }\n</style>\n<table border=\"1\" class=\"dataframe\">\n  <thead>\n    <tr style=\"text-align: right;\">\n      <th></th>\n      <th>first name</th>\n      <th>last name</th>\n    </tr>\n  </thead>\n  <tbody>\n    <tr>\n      <th>3</th>\n      <td>Jose</td>\n      <td>Thompson</td>\n    </tr>\n    <tr>\n      <th>8</th>\n      <td>Jose</td>\n      <td>Mwanga</td>\n    </tr>\n  </tbody>\n</table>\n</div>"
     },
     "execution_count": 11,
     "metadata": {},
     "output_type": "execute_result"
    }
   ],
   "source": [
    "names_data_frame = pandas.DataFrame([{\"first name\": random.choice([\"Mike\", \"Jose\", \"Wendy\", \"Cindy\"]), \"last name\":random.choice([\"Tilten\", \"Joyce\", \"Thompson\", \"Carter\", \"Mwanga\"])} for i in range(10)])\n",
    "\n",
    "names_data_frame.query('`first name`==\"Jose\"')"
   ],
   "metadata": {
    "collapsed": false,
    "pycharm": {
     "name": "#%%\n"
    }
   }
  },
  {
   "cell_type": "markdown",
   "source": [
    "# Pivot the DataFrame\n",
    " Make the locations into rows and user the type values as columns"
   ],
   "metadata": {
    "collapsed": false
   }
  },
  {
   "cell_type": "code",
   "execution_count": 8,
   "outputs": [
    {
     "data": {
      "text/plain": "type           A     B     C\nlocation                    \nMiami      28.50  86.0  49.0\nRotterdam  45.50  23.0   NaN\nTel Aviv   75.00  59.0  92.0\nVictoria   63.25  25.0   NaN",
      "text/html": "<div>\n<style scoped>\n    .dataframe tbody tr th:only-of-type {\n        vertical-align: middle;\n    }\n\n    .dataframe tbody tr th {\n        vertical-align: top;\n    }\n\n    .dataframe thead th {\n        text-align: right;\n    }\n</style>\n<table border=\"1\" class=\"dataframe\">\n  <thead>\n    <tr style=\"text-align: right;\">\n      <th>type</th>\n      <th>A</th>\n      <th>B</th>\n      <th>C</th>\n    </tr>\n    <tr>\n      <th>location</th>\n      <th></th>\n      <th></th>\n      <th></th>\n    </tr>\n  </thead>\n  <tbody>\n    <tr>\n      <th>Miami</th>\n      <td>28.50</td>\n      <td>86.0</td>\n      <td>49.0</td>\n    </tr>\n    <tr>\n      <th>Rotterdam</th>\n      <td>45.50</td>\n      <td>23.0</td>\n      <td>NaN</td>\n    </tr>\n    <tr>\n      <th>Tel Aviv</th>\n      <td>75.00</td>\n      <td>59.0</td>\n      <td>92.0</td>\n    </tr>\n    <tr>\n      <th>Victoria</th>\n      <td>63.25</td>\n      <td>25.0</td>\n      <td>NaN</td>\n    </tr>\n  </tbody>\n</table>\n</div>"
     },
     "execution_count": 8,
     "metadata": {},
     "output_type": "execute_result"
    }
   ],
   "source": [
    "pd.pivot_table(data_frame_2, values=\"rVal\", index=[\"location\"],  columns=\"type\")"
   ],
   "metadata": {
    "collapsed": false,
    "pycharm": {
     "name": "#%%\n"
    }
   }
  },
  {
   "cell_type": "markdown",
   "source": [
    "# Add a calculated column to a DataFrame\n",
    "Add a new column to a DataFrame with a calculated value by multiplying other values from the DataFrame"
   ],
   "metadata": {
    "collapsed": false
   }
  },
  {
   "cell_type": "code",
   "execution_count": 3,
   "outputs": [
    {
     "data": {
      "text/plain": "   id  pVal  tVal  calculated value\n0   0     0     8                 0\n1   1     4    20                80\n2   2     5     6                30\n3   3     1    22                22\n4   4     4    10                40\n5   5     2    17                34\n6   6     2    13                26\n7   7     0     8                 0\n8   8     4     9                36\n9   9     1    12                12",
      "text/html": "<div>\n<style scoped>\n    .dataframe tbody tr th:only-of-type {\n        vertical-align: middle;\n    }\n\n    .dataframe tbody tr th {\n        vertical-align: top;\n    }\n\n    .dataframe thead th {\n        text-align: right;\n    }\n</style>\n<table border=\"1\" class=\"dataframe\">\n  <thead>\n    <tr style=\"text-align: right;\">\n      <th></th>\n      <th>id</th>\n      <th>pVal</th>\n      <th>tVal</th>\n      <th>calculated value</th>\n    </tr>\n  </thead>\n  <tbody>\n    <tr>\n      <th>0</th>\n      <td>0</td>\n      <td>0</td>\n      <td>8</td>\n      <td>0</td>\n    </tr>\n    <tr>\n      <th>1</th>\n      <td>1</td>\n      <td>4</td>\n      <td>20</td>\n      <td>80</td>\n    </tr>\n    <tr>\n      <th>2</th>\n      <td>2</td>\n      <td>5</td>\n      <td>6</td>\n      <td>30</td>\n    </tr>\n    <tr>\n      <th>3</th>\n      <td>3</td>\n      <td>1</td>\n      <td>22</td>\n      <td>22</td>\n    </tr>\n    <tr>\n      <th>4</th>\n      <td>4</td>\n      <td>4</td>\n      <td>10</td>\n      <td>40</td>\n    </tr>\n    <tr>\n      <th>5</th>\n      <td>5</td>\n      <td>2</td>\n      <td>17</td>\n      <td>34</td>\n    </tr>\n    <tr>\n      <th>6</th>\n      <td>6</td>\n      <td>2</td>\n      <td>13</td>\n      <td>26</td>\n    </tr>\n    <tr>\n      <th>7</th>\n      <td>7</td>\n      <td>0</td>\n      <td>8</td>\n      <td>0</td>\n    </tr>\n    <tr>\n      <th>8</th>\n      <td>8</td>\n      <td>4</td>\n      <td>9</td>\n      <td>36</td>\n    </tr>\n    <tr>\n      <th>9</th>\n      <td>9</td>\n      <td>1</td>\n      <td>12</td>\n      <td>12</td>\n    </tr>\n  </tbody>\n</table>\n</div>"
     },
     "execution_count": 3,
     "metadata": {},
     "output_type": "execute_result"
    }
   ],
   "source": [
    "import random\n",
    "import pandas\n",
    "from pandas import DataFrame\n",
    "\n",
    "data_frame_3:pandas.DataFrame = DataFrame([{\"id\": i, \"pVal\": random.randint(0, 5), \"tVal\" : random.randint(1,22)} for i in range(10)])\n",
    "data_frame_3[\"calculated value\"] = data_frame_3.pVal * data_frame_3.tVal\n",
    "\n",
    "data_frame_3"
   ],
   "metadata": {
    "collapsed": false,
    "pycharm": {
     "name": "#%%\n"
    }
   }
  },
  {
   "cell_type": "markdown",
   "source": [
    "## Create a calculated column based on a python function\n",
    "This example requires the one above to be run first.\n",
    "Use the 'apply' function to apply a python function to a column in the data table. This example is partially based on this post. https://stackoverflow.com/questions/40045632/adding-a-column-in-pandas-df-using-a-function"
   ],
   "metadata": {
    "collapsed": false
   }
  },
  {
   "cell_type": "code",
   "execution_count": 7,
   "outputs": [
    {
     "data": {
      "text/plain": "   id  pVal  tVal  calculated value  status\n0   0     0     8                 0     low\n1   1     4    20                80    high\n2   2     5     6                30  normal\n3   3     1    22                22  normal\n4   4     4    10                40  normal\n5   5     2    17                34  normal\n6   6     2    13                26  normal\n7   7     0     8                 0     low\n8   8     4     9                36  normal\n9   9     1    12                12     low",
      "text/html": "<div>\n<style scoped>\n    .dataframe tbody tr th:only-of-type {\n        vertical-align: middle;\n    }\n\n    .dataframe tbody tr th {\n        vertical-align: top;\n    }\n\n    .dataframe thead th {\n        text-align: right;\n    }\n</style>\n<table border=\"1\" class=\"dataframe\">\n  <thead>\n    <tr style=\"text-align: right;\">\n      <th></th>\n      <th>id</th>\n      <th>pVal</th>\n      <th>tVal</th>\n      <th>calculated value</th>\n      <th>status</th>\n    </tr>\n  </thead>\n  <tbody>\n    <tr>\n      <th>0</th>\n      <td>0</td>\n      <td>0</td>\n      <td>8</td>\n      <td>0</td>\n      <td>low</td>\n    </tr>\n    <tr>\n      <th>1</th>\n      <td>1</td>\n      <td>4</td>\n      <td>20</td>\n      <td>80</td>\n      <td>high</td>\n    </tr>\n    <tr>\n      <th>2</th>\n      <td>2</td>\n      <td>5</td>\n      <td>6</td>\n      <td>30</td>\n      <td>normal</td>\n    </tr>\n    <tr>\n      <th>3</th>\n      <td>3</td>\n      <td>1</td>\n      <td>22</td>\n      <td>22</td>\n      <td>normal</td>\n    </tr>\n    <tr>\n      <th>4</th>\n      <td>4</td>\n      <td>4</td>\n      <td>10</td>\n      <td>40</td>\n      <td>normal</td>\n    </tr>\n    <tr>\n      <th>5</th>\n      <td>5</td>\n      <td>2</td>\n      <td>17</td>\n      <td>34</td>\n      <td>normal</td>\n    </tr>\n    <tr>\n      <th>6</th>\n      <td>6</td>\n      <td>2</td>\n      <td>13</td>\n      <td>26</td>\n      <td>normal</td>\n    </tr>\n    <tr>\n      <th>7</th>\n      <td>7</td>\n      <td>0</td>\n      <td>8</td>\n      <td>0</td>\n      <td>low</td>\n    </tr>\n    <tr>\n      <th>8</th>\n      <td>8</td>\n      <td>4</td>\n      <td>9</td>\n      <td>36</td>\n      <td>normal</td>\n    </tr>\n    <tr>\n      <th>9</th>\n      <td>9</td>\n      <td>1</td>\n      <td>12</td>\n      <td>12</td>\n      <td>low</td>\n    </tr>\n  </tbody>\n</table>\n</div>"
     },
     "execution_count": 7,
     "metadata": {},
     "output_type": "execute_result"
    }
   ],
   "source": [
    "def get_status_string(num:int)-> str:\n",
    "    if num >50: return \"high\"\n",
    "    elif num<20: return \"low\"\n",
    "    else: return \"normal\"\n",
    "\n",
    "data_frame_3[\"status\"] = data_frame_3[\"calculated value\"].apply(get_status_string)\n",
    "data_frame_3"
   ],
   "metadata": {
    "collapsed": false,
    "pycharm": {
     "name": "#%%\n"
    }
   }
  },
  {
   "cell_type": "code",
   "execution_count": null,
   "outputs": [],
   "source": [],
   "metadata": {
    "collapsed": false,
    "pycharm": {
     "name": "#%%\n"
    }
   }
  }
 ],
 "metadata": {
  "kernelspec": {
   "display_name": "Python 3",
   "language": "python",
   "name": "python3"
  },
  "language_info": {
   "codemirror_mode": {
    "name": "ipython",
    "version": 2
   },
   "file_extension": ".py",
   "mimetype": "text/x-python",
   "name": "python",
   "nbconvert_exporter": "python",
   "pygments_lexer": "ipython2",
   "version": "2.7.6"
  }
 },
 "nbformat": 4,
 "nbformat_minor": 0
}